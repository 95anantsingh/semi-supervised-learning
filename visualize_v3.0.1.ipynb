{
 "cells": [
  {
   "cell_type": "markdown",
   "metadata": {},
   "source": [
    "# Visualize"
   ]
  },
  {
   "cell_type": "markdown",
   "metadata": {},
   "source": [
    "## 1. Imports"
   ]
  },
  {
   "cell_type": "code",
   "execution_count": 1,
   "metadata": {
    "tags": []
   },
   "outputs": [],
   "source": [
    "import os\n",
    "import re\n",
    "import gc\n",
    "import torch\n",
    "import warnings\n",
    "import numpy as np\n",
    "import scipy.stats\n",
    "import pandas as pd\n",
    "import seaborn as sns\n",
    "from tqdm import tqdm\n",
    "from copy import deepcopy\n",
    "import plotly.express as px\n",
    "# from plotly.offline import plot\n",
    "import matplotlib.pyplot as plt\n",
    "import plotly.graph_objects as go\n",
    "from utils.python_utils import dotdict, alpha_sort\n",
    "\n",
    "warnings.filterwarnings(\"ignore\")\n",
    "sns.set_theme(style=\"white\", rc={\"axes.facecolor\": (0, 0, 0, 0)})\n",
    "if sns.__version__ != '0.12.1': raise NotImplementedError"
   ]
  },
  {
   "attachments": {},
   "cell_type": "markdown",
   "metadata": {},
   "source": [
    "### Paths"
   ]
  },
  {
   "cell_type": "code",
   "execution_count": 4,
   "metadata": {},
   "outputs": [],
   "source": [
    "version = '3.0'\n",
    "\n",
    "history_dir = os.path.join('history','v'+version)\n",
    "base_dir = os.path.join('docs','visuals','v'+version)"
   ]
  },
  {
   "cell_type": "markdown",
   "metadata": {},
   "source": [
    "### Supporting Functions"
   ]
  },
  {
   "cell_type": "code",
   "execution_count": 5,
   "metadata": {},
   "outputs": [],
   "source": [
    "subset=''\n",
    "history={}\n",
    "history_dict={}\n",
    "\n",
    "# Make save directory\n",
    "def make_save_dir(history):\n",
    "    dataset = history['config']['main_dataset']\n",
    "\n",
    "    strategy = history['strategy'] if history['config']['labeled_sampling']=='equal' else 'random_'+history['strategy']\n",
    "    run = history['config']['run_name']\n",
    "    config_str = '_'.join(history['file_name'].split('_')[0:5])\n",
    "    \n",
    "    plots_dir = os.path.join(base_dir,dataset,strategy,run,config_str)\n",
    "    os.makedirs(plots_dir,exist_ok=True)\n",
    "\n",
    "    return plots_dir\n",
    "\n",
    "# Class labels\n",
    "class_labels = {'dbpedia_14':{0:'Company', 1:'Edu Institution', 2:'Artist', 3:'Athlete', 4:'Office Holder',5:'Mean Of Trans', 6:'Building',\\\n",
    "                              7:'Natural Place', 8:'Village', 9:'Animal', 10:'Plant', 11:'Album', 12:'Film', 13:'Written Work'},\n",
    "                'yahoo_answers':{0:\"Society\", 1:\"Science\", 2:\"Health\", 3:\"Education\", 4:\"Computers\",\\\n",
    "                                    5:\"Sports\", 6:\"Business\", 7:\"Music\", 8:\"Family\", 9:\"Politics\"}}"
   ]
  },
  {
   "cell_type": "markdown",
   "metadata": {},
   "source": [
    "## 2. Load History Files"
   ]
  },
  {
   "cell_type": "markdown",
   "metadata": {
    "jp-MarkdownHeadingCollapsed": true,
    "tags": []
   },
   "source": [
    "### Consolidate"
   ]
  },
  {
   "cell_type": "code",
   "execution_count": null,
   "metadata": {},
   "outputs": [],
   "source": [
    "history_dict = dict()\n",
    "\n",
    "for dataset in os.listdir(history_dir):\n",
    "    dataset_path = os.path.join(history_dir,dataset)\n",
    "    if os.path.isdir(dataset_path):\n",
    "        for run in os.listdir(dataset_path):\n",
    "            run_path = os.path.join(dataset_path,run)\n",
    "            if os.path.isdir(run_path):\n",
    "                \n",
    "                if dataset in history_dict: history_dict[dataset][run] = []\n",
    "                else: history_dict[dataset] = {run:[]}\n",
    "                \n",
    "                for path, dirs, files in os.walk(run_path):\n",
    "                    for file_ in files:\n",
    "                        if file_[-10:] == 'history.pt' and dirs:\n",
    "                            try:\n",
    "                                history_dict[dataset][run].append(torch.load(os.path.join(run_path,file_)))\n",
    "                                history_dict[dataset][run][-1]['file_name'] = file_\n",
    "                            except:\n",
    "                                print(dataset,run,file_)"
   ]
  },
  {
   "cell_type": "markdown",
   "metadata": {
    "jp-MarkdownHeadingCollapsed": true,
    "tags": []
   },
   "source": [
    "### Save"
   ]
  },
  {
   "cell_type": "code",
   "execution_count": null,
   "metadata": {},
   "outputs": [],
   "source": [
    "save_path = os.path.join(history_dir,'consolidated_history.pt')\n",
    "torch.save(history_dict,save_path)"
   ]
  },
  {
   "cell_type": "markdown",
   "metadata": {},
   "source": [
    "### Load"
   ]
  },
  {
   "cell_type": "code",
   "execution_count": 6,
   "metadata": {},
   "outputs": [],
   "source": [
    "save_path = os.path.join(history_dir,'consolidated_history.pt')\n",
    "history_dict = dotdict(torch.load(save_path))\n",
    "history_dict.datasets = list(history_dict.keys())\n",
    "history_dict.runs = [list(history_dict[dataset].keys()) for dataset in history_dict.datasets]"
   ]
  },
  {
   "cell_type": "markdown",
   "metadata": {
    "jp-MarkdownHeadingCollapsed": true,
    "tags": []
   },
   "source": [
    "### Info"
   ]
  },
  {
   "cell_type": "code",
   "execution_count": 12,
   "metadata": {},
   "outputs": [
    {
     "name": "stdout",
     "output_type": "stream",
     "text": [
      "Datasets  : ['yahoo_answers']\n",
      "Runs: [['Run1', 'Run2', 'Run3', 'Run4', 'Run5']]\n",
      "\n",
      "History keys: dict_keys(['strategy', 'config', 'iteration', 'batch_size', 'epoch', 'train_loss', 'train_acc', 'val_loss', 'val_cw_f1', 'val_acc', 'val_cw_acc', 'test_loss', 'test_cw_f1', 'test_acc', 'test_cw_acc', 'labeled_set_size', 'unlabeled_set_size', 'selected_set_size', 'selected_in_domain', 'selected_out_domain', 'train_distribution', 'labeled_distribution', 'unlabeled_distribution', 'selected_distribution', 'predicted_distribution', 'pseudo_distribution', 'predicted_probs', 'predicted_prob_mean', 'predicted_prob_std', 'predicted_prob_max', 'predicted_prob_min', 'selected_probs', 'selected_prob_mean', 'selected_prob_std', 'selected_prob_max', 'selected_prob_min', 'file_name'])\n",
      "\n",
      "Config keys : dict_keys(['run_name', 'strategy', 'strategy_value', 'main_dataset', 'other_datasets', 'main_sampling_ratio', 'labeled_size', 'labeled_sampling', 'unlabeled_size', 'unlabeled_in_domain_ratio', 'eval_size', 'num_epochs', 'num_iters', 'max_batch_size', 'min_batch_size', 'steps_per_epoch', 'min_total_steps', 'max_patience', 'save_interval', 'sorted_data', 'history_dir', 'data_dir', 'cache_dir', 'resume_from'])\n",
      "\n",
      "File Counts:\n",
      "\n",
      "Dataset: yahoo_answers\n",
      "28 Run1\n",
      "28 Run2\n",
      "28 Run3\n",
      "28 Run4\n",
      "28 Run5\n"
     ]
    }
   ],
   "source": [
    "print('Datasets  :',history_dict.datasets)\n",
    "print('Runs:',history_dict.runs)\n",
    "print('\\nHistory keys:', history_dict[history_dict.datasets[0]][history_dict.runs[0][0]][0].keys())\n",
    "print('\\nConfig keys :', history_dict[history_dict.datasets[0]][history_dict.runs[0][0]][0]['config'].keys())\n",
    "\n",
    "print('\\nFile Counts:')\n",
    "for dataset in history_dict.datasets:\n",
    "    print('\\nDataset:', dataset)\n",
    "    for run, val in history_dict[dataset].items():\n",
    "        print(len(val), run)"
   ]
  },
  {
   "attachments": {},
   "cell_type": "markdown",
   "metadata": {},
   "source": [
    "## 3. Plots for each run"
   ]
  },
  {
   "attachments": {},
   "cell_type": "markdown",
   "metadata": {
    "jp-MarkdownHeadingCollapsed": true,
    "tags": []
   },
   "source": [
    "### 3.1 Probability Distribution Plots"
   ]
  },
  {
   "cell_type": "markdown",
   "metadata": {},
   "source": [
    "#### Supporting Methods"
   ]
  },
  {
   "cell_type": "code",
   "execution_count": 13,
   "metadata": {},
   "outputs": [],
   "source": [
    "# Function to label the plot in axes coordinates\n",
    "def prob_label(x, color, label):\n",
    "    ax = plt.gca()\n",
    "    \n",
    "    ax.text(0.05, .3, str(int(label)+1), fontsize='small',#color=color,# fontweight=\"bold\",\n",
    "        ha=\"left\", va=\"center\", transform=ax.transAxes)\n",
    "    min_ = '%.2f  '  %(history[subset+'_prob_min'][int(label)])\n",
    "    max_ = '%.2f    '%(history[subset+'_prob_max'][int(label)])\n",
    "    std  = '%.2f   ' %(history[subset+'_prob_std'][int(label)])\n",
    "    mean = '%.2f'    %(history[subset+'_prob_mean'][int(label)])\n",
    "    stat = min_+max_+std+mean\n",
    "    ax.text(1, .3, stat, fontsize='small',#color=color,# fontweight=\"bold\",\n",
    "        ha=\"left\", va=\"center\", transform=ax.transAxes)\n",
    "\n",
    "# Function to label the plot in axes coordinates\n",
    "def sel_prob_label(x, color, label):\n",
    "    ax = plt.gca()\n",
    "    \n",
    "    ax.text(0.05, .3, str(int(label)+1), fontsize='small',#color=color,# fontweight=\"bold\",\n",
    "        ha=\"left\", va=\"center\", transform=ax.transAxes)\n",
    "    min_ = '%.2f  '  %(history['selected_prob_min'][int(label)])\n",
    "    max_ = '%.2f    '%(history['selected_prob_max'][int(label)])\n",
    "    std  = '%.2f   ' %(history['selected_prob_std'][int(label)])\n",
    "    mean = '%.2f'    %(history['selected_prob_mean'][int(label)])\n",
    "    stat = min_+max_+std+mean\n",
    "    ax.text(1, .3, stat, fontsize='small',#color=color,# fontweight=\"bold\",\n",
    "        ha=\"left\", va=\"center\", transform=ax.transAxes)"
   ]
  },
  {
   "cell_type": "markdown",
   "metadata": {},
   "source": [
    "#### Plot"
   ]
  },
  {
   "cell_type": "code",
   "execution_count": 9,
   "metadata": {},
   "outputs": [
    {
     "name": "stdout",
     "output_type": "stream",
     "text": [
      "Dataset  : yahoo_answers\n",
      "Strategy : pc_top_k\n",
      "Run      : Run4\n",
      "Indices  : [3, 0, 2, 9]\n",
      "Unique   : [17, 18, 19, 20]\n",
      "Iter Lens: [18, 18, 19, 17, 18, 18, 17, 17, 18, 20, 18, 18, 19, 20, 18, 17, 20, 18, 17, 18, 20, 18, 20, 20, 18, 18, 18, 18]\n"
     ]
    }
   ],
   "source": [
    "dataset = history_dict.datasets[0]\n",
    "run = history_dict.runs[0][3]\n",
    "history_list = history_dict[dataset][run]\n",
    "\n",
    "iter_lens = [len(history['iteration']) for history in history_list]\n",
    "sorted_ = sorted(list(set(iter_lens)))\n",
    "indices = [iter_lens.index(val) for val in sorted_]\n",
    "print('Dataset  :', dataset)\n",
    "print('Strategy :', history_list[0]['strategy'])\n",
    "print('Run      :', run)\n",
    "print('Indices  :', indices)\n",
    "print('Unique   :', sorted_)\n",
    "print('Iter Lens:', iter_lens)"
   ]
  },
  {
   "cell_type": "code",
   "execution_count": 5,
   "metadata": {},
   "outputs": [],
   "source": [
    "hl = history_dict['yahoo_answers']['Run1']\n",
    "history = None\n",
    "for his in hl:\n",
    "    ls = his['config']['labeled_size']\n",
    "    ubr = his['config']['unlabeled_in_domain_ratio']\n",
    "    if ls==1000 and ubr ==0.5: history=his"
   ]
  },
  {
   "cell_type": "code",
   "execution_count": 6,
   "metadata": {},
   "outputs": [
    {
     "data": {
      "text/plain": [
       "1000"
      ]
     },
     "execution_count": 6,
     "metadata": {},
     "output_type": "execute_result"
    }
   ],
   "source": [
    "history['config']['labeled_size']"
   ]
  },
  {
   "cell_type": "code",
   "execution_count": null,
   "metadata": {},
   "outputs": [],
   "source": [
    "indices =  [3]\n",
    "subset = 'predicted' # selected , predicted\n",
    "\n",
    "for index in indices:\n",
    "    # Load Probs from history\n",
    "    history = history_list[index]\n",
    "\n",
    "    # Make a dataframe to plot\n",
    "    probs = []\n",
    "    iterations = []\n",
    "    for itr, prob_list in enumerate(history[subset+'_probs']):\n",
    "        probs += list(prob_list)\n",
    "        iterations += ([itr]*len(prob_list))\n",
    "    df = pd.DataFrame(dict(probability=probs, iteration=iterations))\n",
    "\n",
    "    # Set size to ensure same width\n",
    "    iterations = len(history['iteration'])\n",
    "    height = 0.5\n",
    "    # width = (0.001 * iterations) + 6 if iterations > 15 else (0.001 * iterations) + 4.4\n",
    "    aspect = 12 if iterations > 22 else 8.2\n",
    "\n",
    "    # Initialize the FacetGrid object\n",
    "    grid = sns.FacetGrid(df, row=\"iteration\", hue=\"iteration\", aspect=aspect, height=height,\n",
    "        sharey=False, sharex=True, palette=sns.color_palette(\"husl\", len(history['iteration'])))\n",
    "\n",
    "    # Plot the densities\n",
    "    # line_color = {'selected':'black', 'predicted':'white'}\n",
    "    line_width = {'selected':1, 'predicted':1.5}\n",
    "    # grid.map(sns.kdeplot, \"probability\", fill=False, alpha = 1,color = line_color[subset], lw=line_width[subset], clip_on=False)\n",
    "    grid.map(sns.kdeplot, \"probability\", fill=False, alpha = 1,color = 'black', lw=1, clip_on=False)\n",
    "    grid.map(sns.kdeplot, \"probability\", fill=True, alpha = 1, lw = 1.2,clip_on=False)\n",
    "\n",
    "    # Passing color=None to refline() uses the hue mapping\n",
    "    grid.refline(y=-0, linewidth=0.3, linestyle=\"-\", color=None, clip_on=False)\n",
    "\n",
    "    # Set labels\n",
    "    grid.map(prob_label, \"probability\")\n",
    "\n",
    "    # Set the subplots to overlap\n",
    "    grid.figure.subplots_adjust(hspace=-.15)\n",
    "\n",
    "    # Set axes details\n",
    "    grid.set_titles(\"\")\n",
    "    grid.set(yticks=[], ylabel=\"\")\n",
    "    grid.despine(bottom=True, left=True)\n",
    "    plt.xticks([0.2,0.4,0.6,0.8,1.0], fontsize='small')\n",
    "\n",
    "    # Set headings\n",
    "    # plt.suptitle(subset.title()+\" Probability Distribution\",fontsize='large', y = 1.005)\n",
    "    plt.text(0,.8,\"Iteration\",transform=plt.gcf().get_axes()[0].transAxes, fontdict={'fontsize':'medium'})\n",
    "    plt.text(1,.8,\"Min  Max  STD  Mean\",transform=plt.gcf().get_axes()[0].transAxes,fontdict={'fontsize':'medium'})\n",
    "\n",
    "    # Plot\n",
    "    # name = 'ls_'+str(history['config']['labeled_size'])+'_idr_'+str(history['config']['unlabeled_in_domain_ratio'])+\\\n",
    "    #     '_'+subset+'_prob_dist.svg'\n",
    "    # plt.savefig(name,bbox_inches='tight');\n",
    "    plt.show();\n",
    "    \n",
    "#########################################################"
   ]
  },
  {
   "cell_type": "markdown",
   "metadata": {},
   "source": [
    "#### Save"
   ]
  },
  {
   "cell_type": "code",
   "execution_count": null,
   "metadata": {},
   "outputs": [
    {
     "name": "stderr",
     "output_type": "stream",
     "text": [
      "Yahoo_Answers, Run1, Selected: 100%|██████████| 28/28 [02:01<00:00,  4.32s/it]\n",
      "Yahoo_Answers, Run1, Predicted: 100%|██████████| 28/28 [02:27<00:00,  5.25s/it]\n",
      "Yahoo_Answers, Run2, Selected: 100%|██████████| 28/28 [01:58<00:00,  4.22s/it]\n",
      "Yahoo_Answers, Run2, Predicted: 100%|██████████| 28/28 [02:25<00:00,  5.20s/it]\n",
      "Yahoo_Answers, Run3, Selected: 100%|██████████| 28/28 [01:57<00:00,  4.21s/it]\n",
      "Yahoo_Answers, Run3, Predicted: 100%|██████████| 28/28 [02:25<00:00,  5.18s/it]\n",
      "Yahoo_Answers, Run4, Selected: 100%|██████████| 28/28 [01:57<00:00,  4.20s/it]\n",
      "Yahoo_Answers, Run4, Predicted: 100%|██████████| 28/28 [02:26<00:00,  5.22s/it]\n",
      "Yahoo_Answers, Run5, Selected: 100%|██████████| 28/28 [01:56<00:00,  4.15s/it]\n",
      "Yahoo_Answers, Run5, Predicted: 100%|██████████| 28/28 [02:23<00:00,  5.12s/it]\n"
     ]
    }
   ],
   "source": [
    "datasets = history_dict.datasets\n",
    "runs = history_dict.runs[0]\n",
    "subsets = ['selected' , 'predicted']\n",
    "for dataset in datasets:\n",
    "    for run in runs:\n",
    "        history_list = history_dict[dataset][run]\n",
    "        for subset in subsets:\n",
    "            for history in tqdm(history_list, desc=dataset.title()+', '+run.title()+', '+subset.title()):\n",
    "                # Make save dir\n",
    "                plots_dir = make_save_dir(history)\n",
    "                \n",
    "                # Make a dataframe to plot\n",
    "                probs = []\n",
    "                iterations = []\n",
    "                for itr, prob_list in enumerate(history[subset+'_probs']):\n",
    "                    probs += list(prob_list)\n",
    "                    iterations += ([itr]*len(prob_list))\n",
    "                df = pd.DataFrame(dict(probability=probs, iteration=iterations))\n",
    "\n",
    "                # Set size to ensure same width\n",
    "                iterations = len(history['iteration'])\n",
    "                height = 0.5\n",
    "                aspect = 12 if iterations > 22 else 8.2\n",
    "\n",
    "                # Initialize the FacetGrid object\n",
    "                grid = sns.FacetGrid(df, row=\"iteration\", hue=\"iteration\", aspect=aspect, height=height,\n",
    "                    sharey=False, sharex=True, palette=sns.color_palette(\"husl\", len(history['iteration'])))\n",
    "\n",
    "                # Plot the densities\n",
    "                line_color = {'selected':'black', 'predicted':'white'}\n",
    "                line_width = {'selected':1, 'predicted':1.5}\n",
    "                # grid.map(sns.kdeplot, \"probability\", fill=False, alpha = 1,color = line_color[subset], lw=line_width[subset], clip_on=False)\n",
    "                grid.map(sns.kdeplot, \"probability\", fill=False, alpha = 1,color = 'black', lw=1, clip_on=False)\n",
    "                grid.map(sns.kdeplot, \"probability\", fill=True, alpha = 1, lw = 1.2, clip_on=False)\n",
    "\n",
    "                # Passing color=None to refline() uses the hue mapping\n",
    "                grid.refline(y=-0, linewidth=0.3, linestyle=\"-\", color=None, clip_on=False)\n",
    "\n",
    "                # Set labels\n",
    "                grid.map(prob_label, \"probability\")\n",
    "\n",
    "                # Set the subplots to overlap\n",
    "                grid.figure.subplots_adjust(hspace=-.15)\n",
    "\n",
    "                # Set axes details\n",
    "                grid.set_titles(\"\")\n",
    "                grid.set(yticks=[], ylabel=\"\")\n",
    "                grid.despine(bottom=True, left=True)\n",
    "                plt.xticks([0.2,0.4,0.6,0.8,1.0], fontsize='small')\n",
    "\n",
    "                # Set headings\n",
    "                plt.suptitle(subset.title()+\" Probability Distribution\",fontsize='large',x=0.55, y = 1.005)\n",
    "                plt.text(0,.8,\"Iteration\",transform=plt.gcf().get_axes()[0].transAxes, fontdict={'fontsize':'medium'})\n",
    "                plt.text(1,.8,\"Min  Max  STD  Mean\",transform=plt.gcf().get_axes()[0].transAxes,fontdict={'fontsize':'medium'})\n",
    "\n",
    "                # Save\n",
    "                # plt.savefig(plots_dir+'/'+config_str+' '+subset+\"_prob_dist.png\",bbox_inches=\"tight\");\n",
    "                plt.savefig(plots_dir+'/'+subset+\"_prob_dist.png\",bbox_inches=\"tight\");\n",
    "                plt.clf();\n",
    "                plt.close('all');\n",
    "                del(df)\n",
    "                del(history)\n",
    "                del(grid)\n",
    "                gc.collect()"
   ]
  },
  {
   "cell_type": "markdown",
   "metadata": {
    "jp-MarkdownHeadingCollapsed": true,
    "tags": []
   },
   "source": [
    "### 3.2 Class Distribution Plots"
   ]
  },
  {
   "cell_type": "markdown",
   "metadata": {},
   "source": [
    "#### Supporting Methods"
   ]
  },
  {
   "cell_type": "code",
   "execution_count": 15,
   "metadata": {},
   "outputs": [],
   "source": [
    "# Function to label the plot in axes coordinates\n",
    "def class_label(x, color, label):\n",
    "    ax = plt.gca()\n",
    "    if subset.lower() == 'selected':\n",
    "        txt = history['selected_set_size'][int(label)]\n",
    "        in_do = ' '*(3-len(str(txt)))+'   '+str(history['selected_in_domain'][int(label)]) +' '*(3-len(str(history['selected_in_domain'][int(label)])))\n",
    "        out_do = '   '+str(history['selected_out_domain'][int(label)])\n",
    "        txt = str(txt) + in_do + out_do\n",
    "    elif subset.lower() == 'labeled' or subset.lower() == 'train':\n",
    "        txt = history['labeled_set_size'][int(label)]\n",
    "    elif subset.lower() == 'unlabeled' or subset.lower() == 'predicted':\n",
    "        txt = history['unlabeled_set_size'][int(label)]\n",
    "    elif subset.lower() == 'pseudo':\n",
    "        txt = history['selected_set_size'][int(label)]\n",
    "    else: raise NotImplementedError\n",
    "    \n",
    "    ax.text(-0.15, .2, str(int(label)+1), fontsize='small', ha=\"left\", va=\"center\", transform=ax.transAxes)\n",
    "    ax.text(1.05, .2, str(txt), fontsize='small', ha=\"left\", va=\"center\", transform=ax.transAxes)"
   ]
  },
  {
   "cell_type": "markdown",
   "metadata": {},
   "source": [
    "#### Plot"
   ]
  },
  {
   "cell_type": "code",
   "execution_count": 13,
   "metadata": {},
   "outputs": [
    {
     "name": "stdout",
     "output_type": "stream",
     "text": [
      "Dataset  : yahoo_answers\n",
      "Strategy : pc_top_k\n",
      "Run      : Run1\n",
      "Subset   : selected\n",
      "Indices  : [3, 7, 2, 0, 4]\n",
      "\n",
      "Unique   : ('16 4', 3) ('17 4', 7) ('18 4', 2) ('19 4', 0) ('20 4', 4)\n",
      "\n",
      "Iter Lens: ['19 4', '19 4', '18 4', '16 4', '20 4', '16 4', '16 4', '17 4', '16 4', '19 4', '16 4', '19 4', '18 4', '20 4', '16 4', '16 4', '17 4', '17 4', '19 4', '17 4', '18 4', '19 4', '17 4', '18 4', '17 4', '16 4', '16 4', '18 4']\n"
     ]
    }
   ],
   "source": [
    "dataset = history_dict.datasets[0]\n",
    "run = history_dict.runs[0][0]\n",
    "history_list = history_dict[dataset][run]\n",
    "\n",
    "subset = 'selected'      # 'train', 'predicted', 'selected', Not maintained anymore - 'pseudo', 'labeled', 'unlabeled'\n",
    "\n",
    "iter_lens = [str(len(history[subset.lower()+'_distribution']))+' '+str(len(history[subset.lower()+'_distribution'][0])) for history in history_list]\n",
    "sorted_ = alpha_sort(list(set(iter_lens)))\n",
    "sorted_ = sorted(list(set(iter_lens)))\n",
    "indices = [iter_lens.index(val) for val in sorted_]\n",
    "print('Dataset  :', dataset)\n",
    "print('Strategy :', history_list[0]['strategy'])\n",
    "print('Run      :', run)\n",
    "print('Subset   :', subset)\n",
    "print('Indices  :', indices)\n",
    "print('\\nUnique   :', *zip(sorted_,indices))\n",
    "print('\\nIter Lens:', iter_lens)\n"
   ]
  },
  {
   "cell_type": "code",
   "execution_count": 18,
   "metadata": {},
   "outputs": [
    {
     "data": {
      "image/png": "[encoded data removed]",
      "text/plain": [
       "<Figure size 175x950 with 19 Axes>"
      ]
     },
     "metadata": {},
     "output_type": "display_data"
    }
   ],
   "source": [
    "indices = [0]\n",
    "\n",
    "for index in indices:\n",
    "    # Load distribution from history\n",
    "    history = history_list[index]\n",
    "\n",
    "    # Make a dataframe to plot\n",
    "    classes = []\n",
    "    datasets = []\n",
    "    count = []\n",
    "    total = []\n",
    "    iteration = []\n",
    "\n",
    "    if subset == 'selected': \n",
    "        for itr, dist in enumerate(history[subset.lower()+'_distribution']):\n",
    "            dist = {key:sum(value.values()) for key,value in dist.items()}\n",
    "            datasets += [' '.join(class_.split('_')).title() for class_ in dist.keys()]\n",
    "            count += list(dist.values())\n",
    "            total += [sum(value.values()) for value in history['unlabeled_distribution'][itr].values()]\n",
    "            iteration += [itr]*len(list(dist.keys()))\n",
    "        df = pd.DataFrame(dict(datasets=datasets, count=count, total=total, iteration=iteration))\n",
    "    else: \n",
    "        for itr, dist in enumerate(history[subset.lower()+'_distribution']):\n",
    "            classes += list(dist.keys())\n",
    "            count += list(dist.values())\n",
    "            iteration += [itr]*len(list(dist.keys()))\n",
    "        df = pd.DataFrame(dict(classes=classes, count=count, iteration=iteration))\n",
    "\n",
    "\n",
    "    # Initialize the FacetGrid object\n",
    "    iterations  = len(history[subset.lower() + '_distribution'])\n",
    "    class_count = len(history[subset.lower() + '_distribution'][0])\n",
    "\n",
    "    if dataset == 'dbpedia_14':\n",
    "        if subset == 'selected':\n",
    "            if class_count == 14: aspect = 12 if iterations > 22 else 9\n",
    "            else: aspect = 7.8 if iterations > 21 else 4.5\n",
    "        elif subset == 'pseudo' or subset == 'predicted':\n",
    "            aspect = 6.5 if iterations > 21 else 4.5\n",
    "        else:\n",
    "            if class_count == 14: aspect = 11   \n",
    "            else: aspect = 6.6 if iterations > 15 else 4.5\n",
    "    elif dataset == 'yahoo_answers':\n",
    "        if subset == 'selected':\n",
    "            if class_count == 10: \n",
    "                if iterations > 21: aspect = 10\n",
    "                elif iterations > 15: aspect = 6\n",
    "                else: aspect = 6\n",
    "            else: \n",
    "                if iterations > 21: aspect = 6.8 \n",
    "                elif iterations > 15: aspect = 3.5\n",
    "                else: aspect= 3.3\n",
    "        elif subset == 'pseudo':\n",
    "            if iterations > 21: aspect = 5.1  \n",
    "            elif iterations > 15: aspect = 6\n",
    "            else: aspect = 3.3\n",
    "        elif subset == 'predicted':\n",
    "            if iterations > 21: aspect = 5.7\n",
    "            elif iterations > 15: aspect = 6\n",
    "            else: aspect = 3.3\n",
    "        else: \n",
    "            if iterations > 21: aspect = 5.7\n",
    "            elif iterations > 15: aspect = 6\n",
    "            else: aspect = 3.3\n",
    "    else: raise NotImplementedError\n",
    "    \n",
    "    # Set size to ensure same width\n",
    "    height = 0.5\n",
    "    grid = sns.FacetGrid(df, row=\"iteration\", hue=\"iteration\", aspect=aspect, height=height,\\\n",
    "        sharey=False if subset=='selected' else False, sharex=True, palette=sns.color_palette(\"husl\", iterations))\n",
    "\n",
    "    # Draw the densities in a few steps\n",
    "    if subset=='selected':\n",
    "        grid.map(sns.barplot, 'datasets', 'total', errorbar=None, alpha=0.5, clip_on=False)    \n",
    "        grid.map(sns.barplot, 'datasets', 'count', errorbar=None, clip_on=False)\n",
    "    else: grid.map(sns.barplot, 'classes', 'count', errorbar=None, clip_on=False)\n",
    "        \n",
    "    # Passing color=None to refline() uses the hue mapping\n",
    "    grid.refline(y=0, linewidth=0.5, linestyle=\"-\", color=None, clip_on=False)\n",
    "\n",
    "    # Set labels\n",
    "    if subset == 'selected': grid.map(class_label, \"datasets\")\n",
    "    else: grid.map(class_label, \"classes\")\n",
    "\n",
    "    # Set the subplots to overlap\n",
    "    grid.figure.subplots_adjust(hspace=-.005)\n",
    "\n",
    "    # Set axes details\n",
    "    grid.set_titles(\"\")\n",
    "    grid.set(yticks=[], ylabel=\"\")\n",
    "    grid.despine(bottom=True, left=True)\n",
    "\n",
    "    # Set headings\n",
    "    if subset=='selected': \n",
    "        plt.xticks(rotation='vertical')\n",
    "        plt.suptitle(subset.title()+\" Set Class Distribution\", fontsize='large', x=0.82, y=1.005)\n",
    "    else: \n",
    "        ticks = list(history[subset.lower()+'_distribution'][0].keys())\n",
    "        labels = [class_labels[dataset][tick] for tick in ticks]\n",
    "        plt.xticks(ticks,labels=labels,rotation='vertical')\n",
    "        plt.suptitle(subset.title()+\" Set Class Distribution\", fontsize='large', x=0.5, y=1.005)\n",
    "\n",
    "    plt.text(-0.15,1,\"Iteration\", transform=plt.gcf().get_axes()[0].transAxes, fontdict={'fontsize':'medium'})\n",
    "    if subset =='selected': plt.text(1.05,1,'Size  In  Out', transform=plt.gcf().get_axes()[0].transAxes, fontdict={'fontsize':'medium'})\n",
    "    else: plt.text(1.05,1,'Size', transform=plt.gcf().get_axes()[0].transAxes, fontdict={'fontsize':'medium'})\n",
    "\n",
    "    # Plot\n",
    "    # plt.savefig('ztest/'+str(iterations)+'_'+subset,bbox_inches=\"tight\")\n",
    "    # name = 'ls_'+str(history['config']['labeled_size'])+'_idr_'+str(history['config']['unlabeled_in_domain_ratio'])+\\\n",
    "    #     '_'+subset+'_class_dist.svg'\n",
    "    # plt.savefig(name,bbox_inches='tight');\n",
    "    plt.show();\n",
    "  ##\n",
    "###################################"
   ]
  },
  {
   "cell_type": "markdown",
   "metadata": {},
   "source": [
    "#### Save"
   ]
  },
  {
   "cell_type": "code",
   "execution_count": null,
   "metadata": {},
   "outputs": [
    {
     "name": "stderr",
     "output_type": "stream",
     "text": [
      "Yahoo_Answers, Run1, Train: 100%|██████████| 28/28 [01:43<00:00,  3.69s/it]\n",
      "Yahoo_Answers, Run1, Predicted: 100%|██████████| 28/28 [01:35<00:00,  3.42s/it]\n",
      "Yahoo_Answers, Run1, Selected: 100%|██████████| 28/28 [01:37<00:00,  3.47s/it]\n",
      "Yahoo_Answers, Run1, Pseudo: 100%|██████████| 28/28 [01:35<00:00,  3.41s/it]\n",
      "Yahoo_Answers, Run2, Train: 100%|██████████| 28/28 [01:41<00:00,  3.61s/it]\n",
      "Yahoo_Answers, Run2, Predicted: 100%|██████████| 28/28 [01:36<00:00,  3.43s/it]\n",
      "Yahoo_Answers, Run2, Selected: 100%|██████████| 28/28 [01:36<00:00,  3.45s/it]\n",
      "Yahoo_Answers, Run2, Pseudo: 100%|██████████| 28/28 [01:36<00:00,  3.44s/it]\n",
      "Yahoo_Answers, Run3, Train: 100%|██████████| 28/28 [01:40<00:00,  3.57s/it]\n",
      "Yahoo_Answers, Run3, Predicted: 100%|██████████| 28/28 [01:35<00:00,  3.41s/it]\n",
      "Yahoo_Answers, Run3, Selected: 100%|██████████| 28/28 [01:36<00:00,  3.46s/it]\n",
      "Yahoo_Answers, Run3, Pseudo: 100%|██████████| 28/28 [01:35<00:00,  3.40s/it]\n",
      "Yahoo_Answers, Run4, Train: 100%|██████████| 28/28 [01:40<00:00,  3.58s/it]\n",
      "Yahoo_Answers, Run4, Predicted: 100%|██████████| 28/28 [01:35<00:00,  3.40s/it]\n",
      "Yahoo_Answers, Run4, Selected: 100%|██████████| 28/28 [01:37<00:00,  3.47s/it]\n",
      "Yahoo_Answers, Run4, Pseudo: 100%|██████████| 28/28 [01:35<00:00,  3.42s/it]\n",
      "Yahoo_Answers, Run5, Train: 100%|██████████| 28/28 [01:39<00:00,  3.56s/it]\n",
      "Yahoo_Answers, Run5, Predicted: 100%|██████████| 28/28 [01:34<00:00,  3.37s/it]\n",
      "Yahoo_Answers, Run5, Selected: 100%|██████████| 28/28 [01:35<00:00,  3.41s/it]\n",
      "Yahoo_Answers, Run5, Pseudo: 100%|██████████| 28/28 [01:34<00:00,  3.37s/it]\n"
     ]
    }
   ],
   "source": [
    "# ['pseudo', 'labeled', 'unlabeled', 'train', 'predicted', 'selected']\n",
    "datasets = history_dict.datasets\n",
    "runs = history_dict.runs[0]\n",
    "subsets = ['train','predicted','selected','pseudo']#,'pseudo','predicted','selected']\n",
    "for dataset in datasets:\n",
    "    for run in runs:\n",
    "        history_list = history_dict[dataset][run]\n",
    "        for subset in subsets:\n",
    "            for history in tqdm(history_list, desc=dataset.title()+', '+run.title()+', '+subset.title()):\n",
    "\n",
    "                # Make save dir\n",
    "                plots_dir = make_save_dir(history)\n",
    "\n",
    "                # Make a dataframe to plot\n",
    "                classes = []\n",
    "                datasets = []\n",
    "                count = []\n",
    "                total = []\n",
    "                iteration = []\n",
    "\n",
    "                if subset == 'selected': \n",
    "                    for itr, dist in enumerate(history[subset.lower()+'_distribution']):\n",
    "                        dist = {key:sum(value.values()) for key,value in dist.items()}\n",
    "                        datasets += [' '.join(class_.split('_')).title() for class_ in dist.keys()]\n",
    "                        count += list(dist.values())\n",
    "                        total += [sum(value.values()) for value in history['unlabeled_distribution'][itr].values()]\n",
    "                        iteration += [itr]*len(list(dist.keys()))\n",
    "                    df = pd.DataFrame(dict(datasets=datasets, count=count, total=total, iteration=iteration))\n",
    "                else: \n",
    "                    for itr, dist in enumerate(history[subset.lower()+'_distribution']):\n",
    "                        classes += list(dist.keys())\n",
    "                        count += list(dist.values())\n",
    "                        iteration += [itr]*len(list(dist.keys()))\n",
    "                    df = pd.DataFrame(dict(classes=classes, count=count, iteration=iteration))\n",
    "\n",
    "\n",
    "                # Initialize the FacetGrid object\n",
    "                iterations  = len(history[subset.lower() + '_distribution'])\n",
    "                class_count = len(history[subset.lower() + '_distribution'][0])\n",
    "\n",
    "                if dataset == 'dbpedia_14':\n",
    "                    if subset == 'selected':\n",
    "                        if class_count == 14: aspect = 12 if iterations > 22 else 9\n",
    "                        else: aspect = 7.8 if iterations > 21 else 4.5\n",
    "                    elif subset == 'pseudo' or subset == 'predicted':\n",
    "                        aspect = 6.5 if iterations > 21 else 4.5\n",
    "                    else:\n",
    "                        if class_count == 14: aspect = 11   \n",
    "                        else: aspect = 6.6 if iterations > 15 else 4.5\n",
    "                elif dataset == 'yahoo_answers':\n",
    "                    if subset == 'selected':\n",
    "                        if class_count == 10: \n",
    "                            if iterations > 21: aspect = 10\n",
    "                            elif iterations > 15: aspect = 6\n",
    "                            else: aspect = 6\n",
    "                        else: \n",
    "                            if iterations > 21: aspect = 6.8 \n",
    "                            elif iterations > 15: aspect = 3.5\n",
    "                            else: aspect= 3.3\n",
    "                    elif subset == 'pseudo':\n",
    "                        if iterations > 21: aspect = 5.1  \n",
    "                        elif iterations > 15: aspect = 6\n",
    "                        else: aspect = 3.3\n",
    "                    elif subset == 'predicted':\n",
    "                        if iterations > 21: aspect = 5.7\n",
    "                        elif iterations > 15: aspect = 6\n",
    "                        else: aspect = 3.3\n",
    "                    else: \n",
    "                        if iterations > 21: aspect = 5.7\n",
    "                        elif iterations > 15: aspect = 6\n",
    "                        else: aspect = 3.3\n",
    "                else: raise NotImplementedError\n",
    "                \n",
    "                # Set size to ensure same width\n",
    "                height = 0.5\n",
    "                grid = sns.FacetGrid(df, row=\"iteration\", hue=\"iteration\", aspect=aspect, height=height,\\\n",
    "                    sharey=False if subset=='selected' else False, sharex=True, palette=sns.color_palette(\"husl\", iterations))\n",
    "\n",
    "                # Draw the densities in a few steps\n",
    "                if subset=='selected':\n",
    "                    grid.map(sns.barplot, 'datasets', 'total', errorbar=None, alpha=0.5, clip_on=False)    \n",
    "                    grid.map(sns.barplot, 'datasets', 'count', errorbar=None, clip_on=False)\n",
    "                else: grid.map(sns.barplot, 'classes', 'count', errorbar=None, clip_on=False)\n",
    "                    \n",
    "                # Passing color=None to refline() uses the hue mapping\n",
    "                grid.refline(y=0, linewidth=0.5, linestyle=\"-\", color=None, clip_on=False)\n",
    "\n",
    "                # Set labels\n",
    "                if subset == 'selected': grid.map(class_label, \"datasets\")\n",
    "                else: grid.map(class_label, \"classes\")\n",
    "\n",
    "                # Set the subplots to overlap\n",
    "                grid.figure.subplots_adjust(hspace=-.005)\n",
    "\n",
    "                # Set axes details\n",
    "                grid.set_titles(\"\")\n",
    "                grid.set(yticks=[], ylabel=\"\")\n",
    "                grid.despine(bottom=True, left=True)\n",
    "\n",
    "                # Set headings\n",
    "                if subset=='selected': \n",
    "                    plt.xticks(rotation='vertical')\n",
    "                    plt.suptitle(subset.title()+\" Set Class Distribution\", fontsize='large', x=0.82, y=1.005)\n",
    "                else: \n",
    "                    ticks = list(history[subset.lower()+'_distribution'][0].keys())\n",
    "                    labels = [class_labels[dataset][tick] for tick in ticks]\n",
    "                    plt.xticks(ticks,labels=labels,rotation='vertical')\n",
    "                    plt.suptitle(subset.title()+\" Set Class Distribution\", fontsize='large', x=0.5, y=1.005)\n",
    "\n",
    "                plt.text(-0.15,1,\"Iteration\", transform=plt.gcf().get_axes()[0].transAxes, fontdict={'fontsize':'medium'})\n",
    "                if subset =='selected': plt.text(1.05,1,'Size  In  Out', transform=plt.gcf().get_axes()[0].transAxes, fontdict={'fontsize':'medium'})\n",
    "                else: plt.text(1.05,1,'Size', transform=plt.gcf().get_axes()[0].transAxes, fontdict={'fontsize':'medium'})\n",
    "\n",
    "\n",
    "                # Save\n",
    "                plt.savefig(plots_dir+'/'+subset+\"_set_class_dist.png\",bbox_inches=\"tight\");\n",
    "                plt.clf();\n",
    "                plt.close('all');\n",
    "                del(df)\n",
    "                del(history)\n",
    "                del(grid)\n",
    "                gc.collect()"
   ]
  },
  {
   "cell_type": "markdown",
   "metadata": {},
   "source": [
    "### 3.3 Metric plots"
   ]
  },
  {
   "attachments": {},
   "cell_type": "markdown",
   "metadata": {},
   "source": [
    "#### Supporting Functions"
   ]
  },
  {
   "cell_type": "code",
   "execution_count": 7,
   "metadata": {},
   "outputs": [],
   "source": [
    "def get_stats(data, confidence=0.95):\n",
    "    a = 1.0 * np.array(data)\n",
    "    n = len(a)\n",
    "    mean, sem = np.mean(a), scipy.stats.sem(a)\n",
    "    ci = sem * scipy.stats.t.ppf((1 + confidence) / 2., n-1)\n",
    "    return mean, ci"
   ]
  },
  {
   "cell_type": "markdown",
   "metadata": {
    "tags": []
   },
   "source": [
    "#### Accuracy Comparison"
   ]
  },
  {
   "cell_type": "code",
   "execution_count": null,
   "metadata": {},
   "outputs": [],
   "source": [
    "# dict(color='LightSkyBlue', line=dict(color='MediumPurple', width=2), size=10, symbol='circle'),\n",
    "markers = {0.05:dict(size=6, symbol='circle'),\n",
    "           0.25:dict(size=6, symbol='square'),\n",
    "           0.5:dict(size=6, symbol='x'),\n",
    "           0.75:dict(size=6, symbol='diamond-tall'),\n",
    "           1:dict(size=6, symbol='star')}\n",
    "\n",
    "#            Blue                  Red                   Green                 Yellow                Purple\n",
    "#            Dark       Light      Dark       Light      Dark       Light      Dark       Light      Dark       Light\n",
    "# colors = ['#1e74ae', '#7cbde9', '#cd181b', '#f28c8e', '#34a02c', '#a2d973', '#cb8e01', '#fdd068', '#7141a4', '#af8ac1']\n",
    "colors = {'min_max' :{100:'rgba(124, 189, 233,0.2)', 500:'rgba(242, 140, 142, 0.2)', 1000:'rgba(162, 217, 115, 0.2)', 5000 :'rgba(175, 138, 193, 0.2)'},#, 2500:'#fdd068'\n",
    "          'avg'     :{100:'#1e74ae', 500:'#cd181b', 1000:'#34a02c', 5000 :'#7141a4'}}#, 2500:'#cb8e01'\n",
    "\n",
    "runs = history_dict.runs[0]\n",
    "for dataset in history_dict.datasets:\n",
    "    fig = go.Figure()\n",
    "\n",
    "    # Legend Keys    \n",
    "    # in_domain_ratio\n",
    "    for key,value in markers.items():\n",
    "        fig.add_trace(\n",
    "            go.Scatter(\n",
    "                mode='markers',\n",
    "                x = [None],\n",
    "                y = [None],\n",
    "                # line = dict(width=value,color='black'),\n",
    "                name = str(int(key*100))+'%',\n",
    "                legendgroup='in_domain_ratio',\n",
    "                legendgrouptitle_text='In Domain Ratio (IDR)',\n",
    "                marker = dict(size=10,symbol=value['symbol'],color='black'),\n",
    "            ))\n",
    "\n",
    "    # labeled_size\n",
    "    for key,value in colors['avg'].items():\n",
    "        fig.add_trace(\n",
    "            go.Scatter(\n",
    "                mode='lines',\n",
    "                x = [None],\n",
    "                y = [None],\n",
    "                line = dict(width=4,color=value,dash='solid'),\n",
    "                name = str(key),\n",
    "                legendgroup='labeled_size',\n",
    "                legendgrouptitle_text='Labeled Size (LS)',\n",
    "            ))\n",
    "\n",
    "    #configs\n",
    "    config_names = [hs['file_name'] for hs in history_dict[dataset][runs[0]]]\n",
    "    sorted_config_names = alpha_sort(config_names)\n",
    "    sorted_idx = [config_names.index(name) for name in sorted_config_names]\n",
    "    for idx in sorted_idx:\n",
    "        history = history_dict[dataset][runs[0]][idx]\n",
    "        if history['config']['unlabeled_in_domain_ratio'] in markers.keys():\n",
    "            config = '_'.join(history['file_name'].split('_')[0:5])\n",
    "\n",
    "            # Get same config history from other runs\n",
    "            history_list = [history]\n",
    "            for run in runs[1:]:\n",
    "                for hs in history_dict[dataset][run]:\n",
    "                    hs_config = '_'.join(hs['file_name'].split('_')[0:5])\n",
    "                    if hs_config == config:\n",
    "                        history_list.append(hs)\n",
    "        \n",
    "            # Get Params\n",
    "            labeled_size = history['config']['labeled_size']\n",
    "            in_domain_ratio = history['config']['unlabeled_in_domain_ratio']\n",
    "\n",
    "            # Get number of max iterations\n",
    "            itrs = 0\n",
    "            for hs in history_list:\n",
    "                if len(hs['iteration']) > itrs: itrs = len(hs['iteration'])\n",
    "\n",
    "            # Accumulate Test Accuracies\n",
    "            test_accs = []\n",
    "            for itr in range(itrs):\n",
    "                test_accs.append([])\n",
    "                for hs in history_list:\n",
    "                    try: test_accs[-1].append(hs['test_acc'][itr][0])\n",
    "                    except: \n",
    "                        try: test_accs[-1].append(hs['test_acc'][itr])\n",
    "                        except: pass\n",
    "\n",
    "            mean_accs = []\n",
    "            max_accs = []\n",
    "            min_accs = []\n",
    "            std_accs = []\n",
    "            ci_accs= []\n",
    "\n",
    "            for accs in test_accs:\n",
    "                mean, ci = get_stats(accs)\n",
    "                mean_accs.append(mean)\n",
    "                ci_accs.append(ci)\n",
    "                max_accs.append(np.max(accs))\n",
    "                min_accs.append(np.min(accs))\n",
    "                std_accs.append(np.std(accs))\n",
    "\n",
    "            std_up = np.array(mean_accs)+np.array(std_accs)\n",
    "            std_dwn = np.array(mean_accs)-np.array(std_accs)\n",
    "\n",
    "            ci_up = np.array(mean_accs)+np.array(ci_accs)\n",
    "            ci_dwn = np.array(mean_accs)-np.array(ci_accs)\n",
    "\n",
    "            itrs = [*range(1,len(mean_accs)+1)]\n",
    "            \n",
    "            fig.add_trace(\n",
    "                go.Scatter(\n",
    "                    mode='lines+markers',\n",
    "                    x =itrs,\n",
    "                    y = mean_accs,\n",
    "                    line = dict(color=colors['avg'][labeled_size]),\n",
    "                    name = 'LS '+str(labeled_size)+'; IDR '+str(int(in_domain_ratio*100))+'%',\n",
    "                    legendgroup='ls_idr',\n",
    "                    legendgrouptitle_text=\"Labeled Size, In Domain Ratio\",\n",
    "                    marker = markers[in_domain_ratio],\n",
    "                )\n",
    "            )\n",
    "            fig.add_trace(\n",
    "                go.Scatter(\n",
    "                    x=itrs+itrs[::-1],\n",
    "                    y=np.concatenate((ci_up,ci_dwn[::-1])),\n",
    "                    fill='toself',\n",
    "                    fillcolor=colors['min_max'][labeled_size],\n",
    "                    line_color=colors['min_max'][labeled_size],\n",
    "                    legendgroup='ls_idr_ci',\n",
    "                    legendgrouptitle_text=\"95% Confidence Interval\",\n",
    "                    name = 'LS '+str(labeled_size)+'; IDR '+str(int(in_domain_ratio*100))+'%',\n",
    "                )\n",
    "            )\n",
    "            fig.add_trace(\n",
    "                go.Scatter(\n",
    "                    x=itrs+itrs[::-1],\n",
    "                    y=np.concatenate((std_up,std_dwn[::-1])),\n",
    "                    fill='toself',\n",
    "                    fillcolor=colors['min_max'][labeled_size],\n",
    "                    line_color=colors['min_max'][labeled_size],\n",
    "                    legendgroup='ls_idr_std',\n",
    "                    legendgrouptitle_text=\"STD Range\",\n",
    "                    name = 'LS '+str(labeled_size)+'; IDR '+str(int(in_domain_ratio*100))+'%',\n",
    "                )\n",
    "            )\n",
    "            fig.add_trace(\n",
    "                go.Scatter(\n",
    "                    x=itrs+itrs[::-1],\n",
    "                    y=max_accs+min_accs,\n",
    "                    fill='toself',\n",
    "                    fillcolor=colors['min_max'][labeled_size],\n",
    "                    line_color=colors['min_max'][labeled_size],\n",
    "                    legendgroup='ls_idr_mnmx',\n",
    "                    legendgrouptitle_text=\"Min-Max Range\",\n",
    "                    name = 'LS '+str(labeled_size)+'; IDR '+str(int(in_domain_ratio*100))+'%',\n",
    "                )\n",
    "            )\n",
    "            \n",
    "            \n",
    "    fig.update_layout(\n",
    "    legend=dict(\n",
    "            font=dict(size=13,color=\"black\"),\n",
    "            groupclick=\"toggleitem\",\n",
    "            itemdoubleclick='toggleothers',\n",
    "            grouptitlefont=dict(size=15,color='black')\n",
    "        ),\n",
    "        title=dict(text='Accuracy Plot',font=dict(size=25)),\n",
    "        font=dict(size=15),\n",
    "        template='plotly_white')\n",
    "    fig.update_xaxes(title_text='iteration')\n",
    "    fig.update_yaxes(title_text='accuracy')\n",
    "    fig.write_html(os.path.join(base_dir,dataset,history['strategy'],\"acc_comparison.html\"),auto_open=False)\n",
    "    # fig.write_html('test.html',auto_open=False)"
   ]
  },
  {
   "attachments": {},
   "cell_type": "markdown",
   "metadata": {},
   "source": [
    "#### Mean Acc for LS"
   ]
  },
  {
   "cell_type": "code",
   "execution_count": 29,
   "metadata": {},
   "outputs": [],
   "source": [
    "\n",
    "ls_list = [100,500,1000,5000]\n",
    "in_domain_ratio_list = [0.05,0.25,0.75,1.0]\n",
    "\n",
    "plot_dir = os.path.join(base_dir,dataset,history_dict[history_dict.datasets[0]][history_dict.runs[0][0]][0]['strategy'],'Avg_Plots')\n",
    "os.makedirs(plot_dir,exist_ok=True)\n",
    "\n",
    "for dataset in history_dict.datasets:\n",
    "    data_dict = {}\n",
    "    for run,histories in history_dict[dataset].items():\n",
    "        for his in histories:\n",
    "            ls = his['config']['labeled_size']\n",
    "            idr = his['config']['unlabeled_in_domain_ratio']\n",
    "            if ls in data_dict: \n",
    "                if idr in data_dict[ls]: data_dict[ls][idr].append(his)\n",
    "                else: data_dict[ls][idr]=[his]\n",
    "            else: \n",
    "                data_dict[ls]={idr:[his]}\n",
    "    \n",
    "    # Set figure\n",
    "    fig, ax = plt.subplots(2, 2,figsize=(12,6))\n",
    "   \n",
    "    axes = np.array(ax).flatten()\n",
    "    sns.set_style('whitegrid')\n",
    "\n",
    "    for (ls, ls_dict), ax in zip(data_dict.items(),axes):\n",
    "        itrs = []\n",
    "        test_accs = []\n",
    "        idr_list = []\n",
    "        for idr in in_domain_ratio_list:\n",
    "            histories = ls_dict[idr]\n",
    "            \n",
    "            for his in histories:\n",
    "                accs = []\n",
    "                for acc in his['test_acc']:\n",
    "                    try: accs.append(acc[0])\n",
    "                    except: \n",
    "                        try: accs.append(acc)\n",
    "                        except: pass\n",
    "                test_accs+=accs[1:]\n",
    "                itrs+=his['iteration'][1:]\n",
    "                idr_list += ([idr]*len(his['iteration'][1:]))\n",
    "\n",
    "        df = pd.DataFrame(dict(Itr=itrs, Acc=test_accs,IDR=idr_list))\n",
    "        \n",
    "        # Plot the lines\n",
    "        sns.lineplot(df ,x='Itr',y='Acc', hue='IDR',dashes=False,markers='o',palette=sns.color_palette(\"husl\",len(in_domain_ratio_list)),ax=ax)   \n",
    "        # Adjust border\n",
    "        sns.despine(top=True,right=True)\n",
    "\n",
    "        # Set Labels, legends and ticks\n",
    "        ax.set_title('Labeled Size: '+str(ls))\n",
    "        ax.set_xlabel(\"\")\n",
    "        ax.set_ylabel(\"\")\n",
    "        ax.legend(facecolor=\"w\")#,loc=4,title='IDR')\n",
    "        ax.set_xticks([*range(2,21,2)],labels=[*range(2,21,2)])\n",
    "        ax.set_xlim(1,24.6)\n",
    "   \n",
    "    # Plot\n",
    "    axes[-1].set_xlabel(\"Iteration\")\n",
    "    axes[-2].set_xlabel(\"Iteration\")\n",
    "    axes[0].set_ylabel(\"Accuracy\")\n",
    "    axes[2].set_ylabel(\"Accuracy\")\n",
    "    plt.tight_layout()\n",
    "    # plt.show();\n",
    "\n",
    "    plt.savefig(os.path.join(plot_dir,'accuracy_plot_'+version+'.png'),bbox_inches=\"tight\");\n",
    "    plt.savefig(os.path.join(plot_dir,'accuracy_plot_'+version+'.svg'),bbox_inches=\"tight\");\n",
    "    plt.clf();\n",
    "    plt.close('all');"
   ]
  },
  {
   "attachments": {},
   "cell_type": "markdown",
   "metadata": {},
   "source": [
    "#### Avg Selection Percentage"
   ]
  },
  {
   "cell_type": "code",
   "execution_count": 31,
   "metadata": {},
   "outputs": [],
   "source": [
    "\n",
    "ls_list = [100,500,1000,5000]\n",
    "in_domain_ratio_list = [0.05,0.25,0.75,1.0]\n",
    "\n",
    "plot_dir = os.path.join(base_dir,dataset,history_dict[history_dict.datasets[0]][history_dict.runs[0][0]][0]['strategy'],'Avg_Plots')\n",
    "\n",
    "os.makedirs(plot_dir,exist_ok=True)\n",
    "\n",
    "for dataset in history_dict.datasets:\n",
    "    data_dict = {}\n",
    "    for run,histories in history_dict[dataset].items():\n",
    "        for his in histories:\n",
    "            ls = his['config']['labeled_size']\n",
    "            idr = his['config']['unlabeled_in_domain_ratio']\n",
    "            if ls in data_dict: \n",
    "                if idr in data_dict[ls]: data_dict[ls][idr].append(his)\n",
    "                else: data_dict[ls][idr]=[his]\n",
    "            else: \n",
    "                data_dict[ls]={idr:[his]}\n",
    "    \n",
    "\n",
    "    # Set figure\n",
    "    fig, ax = plt.subplots(2, 2,figsize=(12,6))\n",
    "   \n",
    "    axes = np.array(ax).flatten()\n",
    "    sns.set_style('whitegrid')\n",
    "    \n",
    "    for (ls, ls_dict), ax in zip(data_dict.items(),axes):\n",
    "        itrs = []\n",
    "        in_pcs = []\n",
    "        idr_list = []\n",
    "\n",
    "        for idr in in_domain_ratio_list:\n",
    "            histories = ls_dict[idr]\n",
    "            for his in histories:\n",
    "                in_pc = (np.array(his['selected_in_domain'])/np.array(his['selected_set_size'])).tolist()\n",
    "                in_pcs += in_pc\n",
    "                # out_pcs += (np.array(his['selected_out_domain'])/np.array(his['selected_set_size'])).tolist()\n",
    "                itrs+=[*range(1,len(in_pc)+1)]\n",
    "                idr_list += ([idr]*len(in_pc))\n",
    "\n",
    "        df = pd.DataFrame(dict(Itr=itrs, ratio=in_pcs,IDR=idr_list))\n",
    "        \n",
    "        # Plot the lines\n",
    "        sns.lineplot(df ,x='Itr',y='ratio', hue='IDR',dashes=False,markers='o',palette=sns.color_palette(\"husl\",len(in_domain_ratio_list)),ax=ax)        # Adjust border\n",
    "        # Adjust border\n",
    "        sns.despine(top=True,right=True)\n",
    "\n",
    "        # Set Labels, legends and ticks\n",
    "        ax.set_title('Labeled Size: '+str(ls))\n",
    "        ax.set_xlabel(\"\")\n",
    "        ax.set_ylabel(\"\")\n",
    "        ax.legend(facecolor=\"w\")#,loc=4,title='IDR')\n",
    "        ax.set_xticks([*range(2,21,2)],labels=[*range(2,21,2)])\n",
    "        ax.set_xlim(1,24.6)\n",
    "    \n",
    "    # Plot\n",
    "    axes[-1].set_xlabel(\"Iteration\")\n",
    "    axes[-2].set_xlabel(\"Iteration\")\n",
    "    axes[0].set_ylabel(\"In-Domain Selection Ratio\")\n",
    "    axes[2].set_ylabel(\"In-Domain Selection Ratio\")\n",
    "    plt.tight_layout()\n",
    "    # plt.show();\n",
    "\n",
    "    plt.savefig(os.path.join(plot_dir,'selection_plot_'+version+'.png'),bbox_inches=\"tight\");\n",
    "    plt.savefig(os.path.join(plot_dir,'selection_plot_'+version+'.svg'),bbox_inches=\"tight\");\n",
    "    plt.clf();\n",
    "    plt.close('all');"
   ]
  },
  {
   "cell_type": "markdown",
   "metadata": {
    "jp-MarkdownHeadingCollapsed": true,
    "tags": []
   },
   "source": [
    "#### Accuracy for each Config"
   ]
  },
  {
   "cell_type": "markdown",
   "metadata": {},
   "source": [
    "##### Plot"
   ]
  },
  {
   "cell_type": "code",
   "execution_count": 85,
   "metadata": {},
   "outputs": [
    {
     "name": "stdout",
     "output_type": "stream",
     "text": [
      "Dataset  : yahoo_answers\n",
      "Strategy : pc_top_k\n",
      "Run      : Run1\n",
      "Indices  : [3, 7, 2, 0]\n",
      "Unique   : [17, 18, 19, 20]\n",
      "Iter Lens: [20, 20, 19, 17, 20, 17, 17, 18, 17, 20, 17, 20, 19, 20, 17, 17, 18, 18, 20, 18, 19, 20, 18, 19, 18, 17, 17, 19]\n"
     ]
    }
   ],
   "source": [
    "dataset = history_dict.datasets[0]\n",
    "run = history_dict.runs[0][0]\n",
    "history_list = history_dict[dataset][run]\n",
    "\n",
    "iter_lens = [len(history['iteration']) for history in history_list]\n",
    "sorted_ = sorted(list(set(iter_lens)))\n",
    "indices = [iter_lens.index(val) for val in sorted_]\n",
    "print('Dataset  :', dataset)\n",
    "print('Strategy :', history_list[0]['strategy'])\n",
    "print('Run      :', run)\n",
    "print('Indices  :', indices)\n",
    "print('Unique   :', sorted_)\n",
    "print('Iter Lens:', iter_lens)"
   ]
  },
  {
   "cell_type": "code",
   "execution_count": null,
   "metadata": {},
   "outputs": [],
   "source": [
    "index = 1\n",
    "# Load Probs from history\n",
    "history = history_list[index]\n",
    "\n",
    "# Make a dataframe to plot\n",
    "val_acc = [max(accs) for accs in history['val_acc']]\n",
    "max_idx = [his.index(acc) for his, acc in zip(history['val_acc'],val_acc)]\n",
    "train_acc = [his[idx] for his,idx in zip(history['train_acc'],max_idx)]\n",
    "test_acc = [acc[0] for acc in history['test_acc']]\n",
    "df = pd.DataFrame(dict(val_acc=val_acc, train_acc=train_acc, test_acc=test_acc))\n",
    "\n",
    "# Set plot size\n",
    "plt.figure(figsize=(10,5))\n",
    "sns.set_style('whitegrid')\n",
    "# Plot the lines\n",
    "sns.lineplot(df,dashes=False,markers='o',palette=sns.color_palette(\"husl\", 3))\n",
    "# Adjust border\n",
    "sns.despine(top=True,right=True)\n",
    "# Set Labels, legends and ticks\n",
    "plt.title('Accuracy Plot')\n",
    "plt.xlabel(\"Iteration\")\n",
    "plt.ylabel(\"Accuracy\")\n",
    "plt.legend(facecolor=\"w\")\n",
    "# plt.xticks([*range(0,len(history['iteration']),len(history['iteration'])//20)],labels=[*range(1,len(history['iteration'])+1,len(history['iteration'])//20)])\n",
    "# Plot\n",
    "plt.show()"
   ]
  },
  {
   "cell_type": "markdown",
   "metadata": {},
   "source": [
    "##### Save"
   ]
  },
  {
   "cell_type": "code",
   "execution_count": null,
   "metadata": {},
   "outputs": [
    {
     "name": "stderr",
     "output_type": "stream",
     "text": [
      "Yahoo_Answers, Run1: 100%|██████████| 28/28 [00:08<00:00,  3.18it/s]\n",
      "Yahoo_Answers, Run2: 100%|██████████| 28/28 [00:08<00:00,  3.18it/s]\n",
      "Yahoo_Answers, Run3: 100%|██████████| 28/28 [00:08<00:00,  3.18it/s]\n",
      "Yahoo_Answers, Run4: 100%|██████████| 28/28 [00:08<00:00,  3.18it/s]\n",
      "Yahoo_Answers, Run5: 100%|██████████| 28/28 [00:08<00:00,  3.18it/s]\n"
     ]
    }
   ],
   "source": [
    "datasets = history_dict.datasets\n",
    "runs = history_dict.runs[0]\n",
    "for dataset in datasets:\n",
    "    for run in runs:\n",
    "        history_list = history_dict[dataset][run]\n",
    "        for history in tqdm(history_list, desc=dataset.title()+', '+run.title()):\n",
    "        \n",
    "            # Make save dir\n",
    "            plots_dir=make_save_dir(history)\n",
    "            \n",
    "            val_acc = [max(accs) for accs in history['val_acc']]\n",
    "            max_idx = [his.index(acc) for his, acc in zip(history['val_acc'],val_acc)]\n",
    "            train_acc = [his[idx] for his,idx in zip(history['train_acc'],max_idx)]\n",
    "            try: test_acc = [acc[0] for acc in history['test_acc']]\n",
    "            except: test_acc = [acc for acc in history['test_acc']]\n",
    "            df = pd.DataFrame(dict(val_acc=val_acc, train_acc=train_acc, test_acc=test_acc))\n",
    "\n",
    "            # Set plot size\n",
    "            plt.figure(figsize=(10,5))\n",
    "            sns.set_style('whitegrid')\n",
    "            # Plot the lines\n",
    "            sns.lineplot(df,dashes=False,markers='o',palette=sns.color_palette(\"husl\", 3))\n",
    "            # Adjust border\n",
    "            sns.despine(top=True,right=True)\n",
    "            # Set Labels, legends and ticks\n",
    "            plt.title('Accuracy Plot')\n",
    "            plt.xlabel(\"Iteration\")\n",
    "            plt.ylabel(\"Accuracy\")\n",
    "            plt.legend(facecolor=\"w\")\n",
    "            # plt.xticks([*range(0,len(history['iteration']),max(len(history['iteration'])//20,1))],\\\n",
    "            #     labels=[*range(1,len(history['iteration'])+1,max(len(history['iteration'])//20,1))])\n",
    "\n",
    "            # Save\n",
    "            plt.savefig(plots_dir+'/'+\"acc_plot.png\",bbox_inches=\"tight\");\n",
    "            plt.clf();\n",
    "            plt.close('all');"
   ]
  },
  {
   "cell_type": "markdown",
   "metadata": {
    "jp-MarkdownHeadingCollapsed": true,
    "tags": []
   },
   "source": [
    "#### Classwise metrics for each Config"
   ]
  },
  {
   "cell_type": "markdown",
   "metadata": {},
   "source": [
    "##### Plot"
   ]
  },
  {
   "cell_type": "code",
   "execution_count": null,
   "metadata": {},
   "outputs": [
    {
     "name": "stdout",
     "output_type": "stream",
     "text": [
      "Dataset  : yahoo_answers\n",
      "Strategy : pc_top_k\n",
      "Run      : Run1\n",
      "Indices  : [3, 6, 2, 0]\n",
      "Unique   : [17, 18, 19, 20]\n",
      "Iter Lens: [20, 20, 19, 17, 20, 17, 18, 17, 19, 20, 17, 18, 18, 20, 18, 19, 20, 18, 18, 17]\n"
     ]
    }
   ],
   "source": [
    "dataset = history_dict.datasets[0]\n",
    "run = history_dict.runs[0][0]\n",
    "history_list = history_dict[dataset][run]\n",
    "\n",
    "iter_lens = [len(history['iteration']) for history in history_list]\n",
    "sorted_ = sorted(list(set(iter_lens)))\n",
    "indices = [iter_lens.index(val) for val in sorted_]\n",
    "print('Dataset  :', dataset)\n",
    "print('Strategy :', history_list[0]['strategy'])\n",
    "print('Run      :', run)\n",
    "print('Indices  :', indices)\n",
    "print('Unique   :', sorted_)\n",
    "print('Iter Lens:', iter_lens)"
   ]
  },
  {
   "cell_type": "code",
   "execution_count": null,
   "metadata": {},
   "outputs": [
    {
     "data": {
      "image/png": "[encoded data removed]",
      "text/plain": [
       "<Figure size 1000x500 with 1 Axes>"
      ]
     },
     "metadata": {},
     "output_type": "display_data"
    }
   ],
   "source": [
    "index = 0\n",
    "metric = 'f1' # acc, f1\n",
    "\n",
    "# Load Probs from history\n",
    "history = history_list[index]\n",
    "cw_acc_dict = {class_:[] for class_ in range(len(history['test_cw_'+metric][0][0]))}\n",
    "for cw_acc_list in history['test_cw_'+metric]:\n",
    "    for class_, acc in enumerate(cw_acc_list[0]):\n",
    "        cw_acc_dict[class_].append(acc)\n",
    "\n",
    "df=pd.DataFrame()\n",
    "for key, val in cw_acc_dict.items():\n",
    "    df[class_labels[dataset][key]]=val\n",
    "\n",
    "# Set plot size\n",
    "plt.figure(figsize=(10,5))\n",
    "sns.set_style(\"whitegrid\")\n",
    "# Plot the lines\n",
    "sns.lineplot(df,dashes=False,lw=1.5, markers='o', palette=sns.color_palette(\"husl\", df.shape[1]))\n",
    "# Adjust border\n",
    "sns.despine(top=True,right=True)\n",
    "# Set Labels, legends and ticks\n",
    "plt.title(\"Classwise \"+metric.title()+' Plot')\n",
    "plt.xlabel(\"Iteration\")\n",
    "plt.ylabel(metric.title())\n",
    "plt.legend(facecolor=\"w\",edgecolor='b')\n",
    "# plt.xticks([*range(len(history['iteration']))],labels=[*range(1,len(history['iteration'])+1)])\n",
    "\n",
    "# Plot\n",
    "plt.show()"
   ]
  },
  {
   "cell_type": "markdown",
   "metadata": {},
   "source": [
    "##### Save"
   ]
  },
  {
   "cell_type": "code",
   "execution_count": null,
   "metadata": {},
   "outputs": [
    {
     "name": "stderr",
     "output_type": "stream",
     "text": [
      "Yahoo_Answers, Run1: 100%|██████████| 28/28 [00:25<00:00,  1.09it/s]\n",
      "Yahoo_Answers, Run2: 100%|██████████| 28/28 [00:26<00:00,  1.08it/s]\n",
      "Yahoo_Answers, Run3: 100%|██████████| 28/28 [00:25<00:00,  1.08it/s]\n",
      "Yahoo_Answers, Run4: 100%|██████████| 28/28 [00:25<00:00,  1.08it/s]\n",
      "Yahoo_Answers, Run5: 100%|██████████| 28/28 [00:25<00:00,  1.08it/s]\n"
     ]
    }
   ],
   "source": [
    "metrics = ['acc', 'f1'] # acc, f1\n",
    "\n",
    "datasets = history_dict.datasets\n",
    "runs = history_dict.runs[0]\n",
    "for dataset in datasets:\n",
    "    for run in runs:\n",
    "        history_list = history_dict[dataset][run]\n",
    "        for history in tqdm(history_list, desc=dataset.title()+', '+run.title()):\n",
    "            for metric in metrics:\n",
    "                # Make save dir\n",
    "                plots_dir = make_save_dir(history)\n",
    "                \n",
    "                # Load Probs from history\n",
    "                try: cw_acc_dict = {class_:[] for class_ in range(len(history['test_cw_'+metric][0][0]))}\n",
    "                except: cw_acc_dict = {class_:[] for class_ in range(len(history['test_cw_'+metric][0]))}\n",
    "                for cw_acc_list in history['test_cw_'+metric]:\n",
    "                    try:\n",
    "                        for class_, acc in enumerate(cw_acc_list[0]):\n",
    "                            cw_acc_dict[class_].append(acc)\n",
    "                    except:\n",
    "                        for class_, acc in enumerate(cw_acc_list):\n",
    "                            cw_acc_dict[class_].append(acc)\n",
    "\n",
    "                df=pd.DataFrame()\n",
    "                for key, val in cw_acc_dict.items():\n",
    "                    df[class_labels[dataset][key]]=val\n",
    "\n",
    "                # Set plot size\n",
    "                plt.figure(figsize=(10,5))\n",
    "                sns.set_style(\"whitegrid\")\n",
    "                # Plot the lines\n",
    "                sns.lineplot(df,dashes=False,lw=1.5, markers='o', palette=sns.color_palette(\"husl\", df.shape[1]))\n",
    "                # Adjust border\n",
    "                sns.despine(top=True,right=True)\n",
    "                # Set Labels, legends and ticks\n",
    "                plt.title(\"Classwise \"+metric.title()+' Plot')\n",
    "                plt.xlabel(\"Iteration\")\n",
    "                plt.ylabel(metric.title())\n",
    "                plt.legend(facecolor=\"w\")\n",
    "                # plt.xticks([*range(len(history['iteration']))],labels=[*range(1,len(history['iteration'])+1)])\n",
    "\n",
    "                # Save\n",
    "                plt.savefig(plots_dir+'/'+\"cw_\"+metric+\"_plot.png\",bbox_inches=\"tight\");\n",
    "                plt.clf();\n",
    "                plt.close('all');"
   ]
  },
  {
   "cell_type": "markdown",
   "metadata": {
    "jp-MarkdownHeadingCollapsed": true,
    "tags": []
   },
   "source": [
    "### 3.4 Selection plots"
   ]
  },
  {
   "cell_type": "markdown",
   "metadata": {},
   "source": [
    "#### Plot"
   ]
  },
  {
   "cell_type": "code",
   "execution_count": null,
   "metadata": {},
   "outputs": [
    {
     "name": "stdout",
     "output_type": "stream",
     "text": [
      "Dataset  : yahoo_answers\n",
      "Strategy : pc_top_k\n",
      "Run      : Run4\n",
      "Indices  : [1, 0, 7, 8]\n",
      "Unique   : [17, 18, 19, 20]\n",
      "Iter Lens: [18, 17, 17, 17, 18, 18, 18, 19, 20, 17, 18, 17, 20, 18, 20, 20, 18, 18, 18, 18]\n"
     ]
    }
   ],
   "source": [
    "dataset = history_dict.datasets[0]\n",
    "run = history_dict.runs[0][3]\n",
    "history_list = history_dict[dataset][run]\n",
    "\n",
    "iter_lens = [len(history['iteration']) for history in history_list]\n",
    "sorted_ = sorted(list(set(iter_lens)))\n",
    "indices = [iter_lens.index(val) for val in sorted_]\n",
    "print('Dataset  :', dataset)\n",
    "print('Strategy :', history_list[0]['strategy'])\n",
    "print('Run      :', run)\n",
    "print('Indices  :', indices)\n",
    "print('Unique   :', sorted_)\n",
    "print('Iter Lens:', iter_lens)"
   ]
  },
  {
   "cell_type": "code",
   "execution_count": 109,
   "metadata": {},
   "outputs": [
    {
     "data": {
      "image/png": "[encoded data removed]",
      "text/plain": [
       "<Figure size 600x300 with 1 Axes>"
      ]
     },
     "metadata": {},
     "output_type": "display_data"
    }
   ],
   "source": [
    "index = 0\n",
    "\n",
    "# Load Probs from history\n",
    "history = history_list[index]\n",
    "\n",
    "# Make a dataframe to plot\n",
    "in_domain = deepcopy(history['selected_in_domain'])\n",
    "out_domain = deepcopy([a-b for a,b in zip(history['selected_set_size'],history['selected_in_domain'])])\n",
    "selected = deepcopy(history['selected_set_size'])\n",
    "\n",
    "for i in range(1,len(in_domain)):\n",
    "    in_domain[i] = in_domain[i-1]+in_domain[i]\n",
    "    out_domain[i] = out_domain[i-1]+out_domain[i]\n",
    "    selected [i]= selected[i-1]+selected[i]\n",
    "\n",
    "df = pd.DataFrame(dict(in_domain=in_domain, out_domain=out_domain, selected=selected))\n",
    "\n",
    "# Set plot size\n",
    "plt.figure(figsize=(6,3))\n",
    "sns.set_style(\"whitegrid\")\n",
    "# Plot the lines\n",
    "sns.lineplot(df,dashes=False,markers='o',palette=sns.color_palette(\"husl\", 3))\n",
    "# Adjust border\n",
    "sns.despine(top=True,right=True)\n",
    "# Set Labels, legends and ticks\n",
    "plt.title('Cumulative Selection Plot')\n",
    "plt.xlabel(\"Iteration\")\n",
    "plt.ylabel(\"Count\")\n",
    "plt.legend(facecolor=\"w\",edgecolor='b')\n",
    "# plt.xticks([*range(len(history['iteration']))],labels=[*range(1,len(history['iteration'])+1)])\n",
    "\n",
    "# Plot\n",
    "plt.show()"
   ]
  },
  {
   "cell_type": "markdown",
   "metadata": {},
   "source": [
    "#### Save"
   ]
  },
  {
   "cell_type": "code",
   "execution_count": null,
   "metadata": {},
   "outputs": [
    {
     "name": "stderr",
     "output_type": "stream",
     "text": [
      "Yahoo_Answers, Run1: 100%|██████████| 28/28 [00:09<00:00,  3.06it/s]\n",
      "Yahoo_Answers, Run2: 100%|██████████| 28/28 [00:09<00:00,  3.07it/s]\n",
      "Yahoo_Answers, Run3: 100%|██████████| 28/28 [00:09<00:00,  3.09it/s]\n",
      "Yahoo_Answers, Run4: 100%|██████████| 28/28 [00:09<00:00,  3.09it/s]\n",
      "Yahoo_Answers, Run5: 100%|██████████| 28/28 [00:09<00:00,  2.97it/s]\n"
     ]
    }
   ],
   "source": [
    "datasets = history_dict.datasets\n",
    "runs = history_dict.runs[0]\n",
    "for dataset in datasets:\n",
    "    for run in runs:\n",
    "        history_list = history_dict[dataset][run]\n",
    "        for history in tqdm(history_list, desc=dataset.title()+', '+run.title()):\n",
    "        \n",
    "            # Make save dir\n",
    "            plots_dir=make_save_dir(history)\n",
    "\n",
    "            # Make a dataframe to plot\n",
    "            in_domain = deepcopy(history['selected_in_domain'])\n",
    "            out_domain = deepcopy([a-b for a,b in zip(history['selected_set_size'],history['selected_in_domain'])])\n",
    "            selected = deepcopy(history['selected_set_size'])\n",
    "\n",
    "            for i in range(1,len(in_domain)):\n",
    "                in_domain[i] = in_domain[i-1]+in_domain[i]\n",
    "                out_domain[i] = out_domain[i-1]+out_domain[i]\n",
    "                selected [i]= selected[i-1]+selected[i]\n",
    "\n",
    "            df = pd.DataFrame(dict(in_domain=in_domain, out_domain=out_domain, selected=selected))\n",
    "\n",
    "            # Set plot size\n",
    "            plt.figure(figsize=(10,5))\n",
    "            sns.set_style(\"whitegrid\")\n",
    "            # Plot the lines\n",
    "            sns.lineplot(df,dashes=False,markers='o',palette=sns.color_palette(\"husl\", 3))\n",
    "            # Adjust border\n",
    "            sns.despine(top=True,right=True)\n",
    "            # Set Labels, legends and ticks\n",
    "            plt.title('Cumulative Selection Plot')\n",
    "            plt.xlabel(\"Iteration\")\n",
    "            plt.ylabel(\"Count\")\n",
    "            plt.legend(facecolor=\"w\")\n",
    "            # plt.xticks([*range(len(history['iteration']))],labels=[*range(1,len(history['iteration'])+1)])\n",
    "\n",
    "            # Save\n",
    "            plt.savefig(plots_dir+'/'+\"selection_plot.png\",bbox_inches=\"tight\");\n",
    "            plt.clf();\n",
    "            plt.close('all');"
   ]
  },
  {
   "cell_type": "markdown",
   "metadata": {
    "jp-MarkdownHeadingCollapsed": true,
    "tags": []
   },
   "source": [
    "### 3.5 Distribution Counts"
   ]
  },
  {
   "cell_type": "code",
   "execution_count": null,
   "metadata": {},
   "outputs": [
    {
     "ename": "KeyError",
     "evalue": "'top_k'",
     "output_type": "error",
     "traceback": [
      "\u001b[0;31m---------------------------------------------------------------------------\u001b[0m",
      "\u001b[0;31mKeyError\u001b[0m                                  Traceback (most recent call last)",
      "\u001b[1;32m/home/as14229/NYU_HPC/semi-supervised-learning/visualize_v3.0.ipynb Cell 64\u001b[0m in \u001b[0;36m<cell line: 3>\u001b[0;34m()\u001b[0m\n\u001b[1;32m      <a href='vscode-notebook-cell://ssh-remote%2Bcm016.hpc.nyu.edu/home/as14229/NYU_HPC/semi-supervised-learning/visualize_v3.0.ipynb#Y121sdnNjb2RlLXJlbW90ZQ%3D%3D?line=1'>2</a>\u001b[0m index \u001b[39m=\u001b[39m \u001b[39m5\u001b[39m\n\u001b[1;32m      <a href='vscode-notebook-cell://ssh-remote%2Bcm016.hpc.nyu.edu/home/as14229/NYU_HPC/semi-supervised-learning/visualize_v3.0.ipynb#Y121sdnNjb2RlLXJlbW90ZQ%3D%3D?line=2'>3</a>\u001b[0m \u001b[39mfor\u001b[39;00m history \u001b[39min\u001b[39;00m history_list[index:index\u001b[39m+\u001b[39m\u001b[39m1\u001b[39m]:\n\u001b[1;32m      <a href='vscode-notebook-cell://ssh-remote%2Bcm016.hpc.nyu.edu/home/as14229/NYU_HPC/semi-supervised-learning/visualize_v3.0.ipynb#Y121sdnNjb2RlLXJlbW90ZQ%3D%3D?line=3'>4</a>\u001b[0m     pre_title \u001b[39m=\u001b[39m \u001b[39m'\u001b[39m\u001b[39mThreshold: \u001b[39m\u001b[39m'\u001b[39m\u001b[39m+\u001b[39m\u001b[39mstr\u001b[39m(history[\u001b[39m'\u001b[39m\u001b[39mthreshold\u001b[39m\u001b[39m'\u001b[39m]) \u001b[39mif\u001b[39;00m history[\u001b[39m'\u001b[39m\u001b[39mstrategy\u001b[39m\u001b[39m'\u001b[39m]\u001b[39m==\u001b[39m\u001b[39m'\u001b[39m\u001b[39mthreshold\u001b[39m\u001b[39m'\u001b[39m \u001b[39melse\u001b[39;00m\\\n\u001b[0;32m----> <a href='vscode-notebook-cell://ssh-remote%2Bcm016.hpc.nyu.edu/home/as14229/NYU_HPC/semi-supervised-learning/visualize_v3.0.ipynb#Y121sdnNjb2RlLXJlbW90ZQ%3D%3D?line=4'>5</a>\u001b[0m                 \u001b[39m'\u001b[39m\u001b[39mTop K: \u001b[39m\u001b[39m'\u001b[39m\u001b[39m+\u001b[39m\u001b[39mstr\u001b[39m(history[\u001b[39m'\u001b[39;49m\u001b[39mtop_k\u001b[39;49m\u001b[39m'\u001b[39;49m]) , \u001b[39m\"\u001b[39m\u001b[39mLabeled Size:\u001b[39m\u001b[39m\"\u001b[39m\u001b[39m+\u001b[39m\u001b[39mstr\u001b[39m(history[\u001b[39m'\u001b[39m\u001b[39mlabeled_set_size\u001b[39m\u001b[39m'\u001b[39m][\u001b[39m0\u001b[39m])\u001b[39m+\u001b[39m\\\n\u001b[1;32m      <a href='vscode-notebook-cell://ssh-remote%2Bcm016.hpc.nyu.edu/home/as14229/NYU_HPC/semi-supervised-learning/visualize_v3.0.ipynb#Y121sdnNjb2RlLXJlbW90ZQ%3D%3D?line=5'>6</a>\u001b[0m                     \u001b[39m\"\u001b[39m\u001b[39m, Unlabeled Classes: \u001b[39m\u001b[39m\"\u001b[39m\u001b[39m+\u001b[39m\u001b[39mstr\u001b[39m(\u001b[39mlen\u001b[39m(history[\u001b[39m'\u001b[39m\u001b[39munlabeled_classes\u001b[39m\u001b[39m'\u001b[39m]))\n\u001b[1;32m      <a href='vscode-notebook-cell://ssh-remote%2Bcm016.hpc.nyu.edu/home/as14229/NYU_HPC/semi-supervised-learning/visualize_v3.0.ipynb#Y121sdnNjb2RlLXJlbW90ZQ%3D%3D?line=6'>7</a>\u001b[0m     \u001b[39mprint\u001b[39m(distribution\u001b[39m.\u001b[39mtitle()\u001b[39m+\u001b[39m\u001b[39m'\u001b[39m\u001b[39m Distribution,\u001b[39m\u001b[39m'\u001b[39m,pre_title)\n\u001b[1;32m      <a href='vscode-notebook-cell://ssh-remote%2Bcm016.hpc.nyu.edu/home/as14229/NYU_HPC/semi-supervised-learning/visualize_v3.0.ipynb#Y121sdnNjb2RlLXJlbW90ZQ%3D%3D?line=8'>9</a>\u001b[0m     itr \u001b[39m=\u001b[39m history[\u001b[39m'\u001b[39m\u001b[39miteration\u001b[39m\u001b[39m'\u001b[39m]\n",
      "\u001b[0;31mKeyError\u001b[0m: 'top_k'"
     ]
    }
   ],
   "source": [
    "distribution = 'train'\n",
    "index = 5\n",
    "for history in history_list[index:index+1]:\n",
    "    pre_title = 'Threshold: '+str(history['threshold']) if history['strategy']=='threshold' else\\\n",
    "                'Top K: '+str(history['top_k']) , \"Labeled Size:\"+str(history['labeled_set_size'][0])+\\\n",
    "                    \", Unlabeled Classes: \"+str(len(history['unlabeled_classes']))\n",
    "    print(distribution.title()+' Distribution,',pre_title)\n",
    "    \n",
    "    itr = history['iteration']\n",
    "    unlabeled_dist = [val.values() for val in history[distribution.lower()+'_distribution']]\n",
    "   \n",
    "    df = pd.DataFrame(columns=['Iteration']+[str(clss) for clss in history[distribution.lower()+'_distribution'][0].keys()])\n",
    "    for i, counts in zip(itr,unlabeled_dist):\n",
    "        df.loc[len(df)] = [i]+ list(counts)\n",
    "\n",
    "    display(df)"
   ]
  },
  {
   "cell_type": "markdown",
   "metadata": {
    "jp-MarkdownHeadingCollapsed": true,
    "tags": []
   },
   "source": [
    "## Debug"
   ]
  },
  {
   "cell_type": "code",
   "execution_count": null,
   "metadata": {},
   "outputs": [],
   "source": [
    "fig = px.colors.qualitative.swatches()\n",
    "fig.update_layout(template='plotly_white')\n",
    "fig.write_html(base_dir+\"/colors.html\")"
   ]
  },
  {
   "cell_type": "code",
   "execution_count": null,
   "metadata": {},
   "outputs": [
    {
     "name": "stdout",
     "output_type": "stream",
     "text": [
      "['aggrnyl', 'agsunset', 'blackbody', 'bluered', 'blues', 'blugrn', 'bluyl', 'brwnyl', 'bugn', 'bupu', 'burg', 'burgyl', 'cividis', 'darkmint', 'electric', 'emrld', 'gnbu', 'greens', 'greys', 'hot', 'inferno', 'jet', 'magenta', 'magma', 'mint', 'orrd', 'oranges', 'oryel', 'peach', 'pinkyl', 'plasma', 'plotly3', 'pubu', 'pubugn', 'purd', 'purp', 'purples', 'purpor', 'rainbow', 'rdbu', 'rdpu', 'redor', 'reds', 'sunset', 'sunsetdark', 'teal', 'tealgrn', 'turbo', 'viridis', 'ylgn', 'ylgnbu', 'ylorbr', 'ylorrd', 'algae', 'amp', 'deep', 'dense', 'gray', 'haline', 'ice', 'matter', 'solar', 'speed', 'tempo', 'thermal', 'turbid', 'armyrose', 'brbg', 'earth', 'fall', 'geyser', 'prgn', 'piyg', 'picnic', 'portland', 'puor', 'rdgy', 'rdylbu', 'rdylgn', 'spectral', 'tealrose', 'temps', 'tropic', 'balance', 'curl', 'delta', 'oxy', 'edge', 'hsv', 'icefire', 'phase', 'twilight', 'mrybm', 'mygbm']\n"
     ]
    }
   ],
   "source": [
    "print(px.colors.named_colorscales())"
   ]
  },
  {
   "cell_type": "code",
   "execution_count": null,
   "metadata": {},
   "outputs": [],
   "source": [
    "for name in history_files:\n",
    "    history = torch.load(name)\n",
    "    labeled = history['labeled_set_size'][1:]+[history['unlabeled_set_size'][0]]\n",
    "    unlabeled = history['unlabeled_set_size'][1:]+[0]\n",
    "    history['labeled_set_size']=labeled\n",
    "    history['unlabeled_set_size']=unlabeled\n",
    "    torch.save(history,name)"
   ]
  },
  {
   "cell_type": "code",
   "execution_count": null,
   "metadata": {},
   "outputs": [],
   "source": [
    "for root, dirs, files in os.walk(\"./history\"):\n",
    "   for name in files:\n",
    "      print(os.path.join(root, name))\n",
    "   for name in dirs:\n",
    "      print(os.path.join(root, name))"
   ]
  },
  {
   "attachments": {},
   "cell_type": "markdown",
   "metadata": {},
   "source": [
    "Rename"
   ]
  },
  {
   "cell_type": "code",
   "execution_count": null,
   "metadata": {},
   "outputs": [
    {
     "name": "stdout",
     "output_type": "stream",
     "text": [
      "\n"
     ]
    }
   ],
   "source": [
    "history_dict = dict()\n",
    "\n",
    "for dataset in os.listdir(history_dir):\n",
    "    dataset_path = os.path.join(history_dir,dataset)\n",
    "    if os.path.isdir(dataset_path):\n",
    "        for run in os.listdir(dataset_path):\n",
    "            run_path = os.path.join(dataset_path,run)\n",
    "            if os.path.isdir(run_path):\n",
    "                \n",
    "                if dataset in history_dict: history_dict[dataset][run] = []\n",
    "                else: history_dict[dataset] = {run:[]}\n",
    "                \n",
    "                for path, dirs, files in os.walk(run_path):\n",
    "                    for file_ in files:\n",
    "                        if file_[-10:] == 'history.pt':\n",
    "                            splits=file_.split('_')\n",
    "                            name = '_'.join(splits[1:-1]+['e'+splits[0]]+[splits[-1]])\n",
    "                            try:\n",
    "                                os.rename(os.path.join(run_path,file_), os.path.join(run_path,name))\n",
    "                            except:\n",
    "                                pass\n",
    "                            \n",
    "                            # history_dict[dataset][run].append(file_)\n",
    "print()"
   ]
  },
  {
   "cell_type": "code",
   "execution_count": null,
   "metadata": {},
   "outputs": [
    {
     "name": "stdout",
     "output_type": "stream",
     "text": [
      "100_equal_100_15000_25_e20_history.pt\n",
      "100_equal_5000_15000_75_e17_history.pt\n"
     ]
    }
   ],
   "source": [
    "files = ['20_100_equal_100_15000_25_history.pt', '17_100_equal_5000_15000_75_history.pt']\n",
    "\n",
    "for file_ in files:\n",
    "    splits=file_.split('_')\n",
    "    print('_'.join(splits[1:-1]+['e'+splits[0]]+[splits[-1]]))\n"
   ]
  },
  {
   "cell_type": "code",
   "execution_count": null,
   "metadata": {},
   "outputs": [
    {
     "name": "stdout",
     "output_type": "stream",
     "text": [
      "100_equal_100_15000_25_e20_history.pt\n"
     ]
    }
   ],
   "source": [
    "splits='20_100_equal_100_15000_25_history.pt'.split('_')\n",
    "print('_'.join(splits[1:-1]+['e'+splits[0]]+[splits[-1]]))"
   ]
  },
  {
   "cell_type": "code",
   "execution_count": null,
   "metadata": {},
   "outputs": [],
   "source": [
    "for path, dirs, files in os.walk(history_dir):\n",
    "    print(files)"
   ]
  },
  {
   "cell_type": "code",
   "execution_count": null,
   "metadata": {},
   "outputs": [
    {
     "data": {
      "text/plain": [
       "['setup.py',\n",
       " 'history',\n",
       " '.old',\n",
       " 'docs',\n",
       " 'LICENSE',\n",
       " '.vscode',\n",
       " 'visualize_v3.0.ipynb',\n",
       " 'utils',\n",
       " 'temp',\n",
       " 'prev_versions',\n",
       " 'self_train_v3.0.py',\n",
       " 'self_train_v3.0 copy.py',\n",
       " 'README.md',\n",
       " '.gitignore',\n",
       " 'changelog.md',\n",
       " 'data',\n",
       " '__pycache__',\n",
       " '.git',\n",
       " 'scripts',\n",
       " '.cache']"
      ]
     },
     "execution_count": 29,
     "metadata": {},
     "output_type": "execute_result"
    }
   ],
   "source": []
  },
  {
   "cell_type": "code",
   "execution_count": null,
   "metadata": {},
   "outputs": [
    {
     "name": "stdout",
     "output_type": "stream",
     "text": [
      "['yahoo_answers']\n"
     ]
    }
   ],
   "source": [
    "print(os.listdir(history_dir))"
   ]
  },
  {
   "cell_type": "code",
   "execution_count": null,
   "metadata": {},
   "outputs": [],
   "source": []
  }
 ],
 "metadata": {
  "kernelspec": {
   "display_name": "Python 3 (ipykernel)",
   "language": "python",
   "name": "python3"
  },
  "language_info": {
   "codemirror_mode": {
    "name": "ipython",
    "version": 3
   },
   "file_extension": ".py",
   "mimetype": "text/x-python",
   "name": "python",
   "nbconvert_exporter": "python",
   "pygments_lexer": "ipython3",
   "version": "3.8.13"
  },
  "vscode": {
   "interpreter": {
    "hash": "2d16b7065a7b6c736c1e1086f6450fd457f50d264e4008e1f14cb5793d37f9a9"
   }
  }
 },
 "nbformat": 4,
 "nbformat_minor": 4
}
