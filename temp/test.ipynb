{
 "cells": [
  {
   "cell_type": "code",
   "execution_count": 2,
   "metadata": {},
   "outputs": [],
   "source": [
    "import os\n",
    "import torch"
   ]
  },
  {
   "cell_type": "code",
   "execution_count": 10,
   "metadata": {},
   "outputs": [
    {
     "name": "stdout",
     "output_type": "stream",
     "text": [
      "/home/as14229/NYU_HPC/semi-supervised-learning/history/v3.0/yahoo_answers/Run1/states/18_100_equal_500_15000_50_state.pt\n"
     ]
    }
   ],
   "source": [
    "run = 1\n",
    "run_path = '/home/as14229/NYU_HPC/semi-supervised-learning/history/v3.0/yahoo_answers/Run'+str(run)+'/states'\n",
    "states = []\n",
    "for path, dirs, files in os.walk(run_path):\n",
    "    for file_ in files:\n",
    "        try:\n",
    "            states.append(torch.load(os.path.join(path,file_),map_location='cpu'))\n",
    "            states[-1]['file_name'] = file_\n",
    "        except:\n",
    "            print(os.path.join(path,file_))"
   ]
  },
  {
   "cell_type": "code",
   "execution_count": null,
   "metadata": {},
   "outputs": [],
   "source": [
    "states[0].keys()"
   ]
  },
  {
   "cell_type": "code",
   "execution_count": 3,
   "metadata": {},
   "outputs": [],
   "source": [
    "state = torch.load('/home/as14229/NYU_HPC/semi-supervised-learning/history/v3.0/yahoo_answers/Run1/states/100_equal_100_15000_5_e20_state.pt', map_location='cpu')"
   ]
  },
  {
   "cell_type": "code",
   "execution_count": 9,
   "metadata": {},
   "outputs": [],
   "source": [
    "state2 = torch.load('/home/as14229/NYU_HPC/semi-supervised-learning/history/v3.0/yahoo_answers/Run1/states/100_equal_500_15000_5_e19_state.pt', map_location='cpu')"
   ]
  },
  {
   "cell_type": "code",
   "execution_count": 13,
   "metadata": {},
   "outputs": [
    {
     "data": {
      "text/plain": [
       "'Saved in History Dir seperately'"
      ]
     },
     "execution_count": 13,
     "metadata": {},
     "output_type": "execute_result"
    }
   ],
   "source": [
    "state['history']"
   ]
  },
  {
   "cell_type": "code",
   "execution_count": 10,
   "metadata": {},
   "outputs": [],
   "source": [
    "unlabeled_indices = state['unlabeled_indices']\n",
    "unlabeled_indices2 = state2['unlabeled_indices']"
   ]
  },
  {
   "cell_type": "code",
   "execution_count": 11,
   "metadata": {},
   "outputs": [
    {
     "data": {
      "text/plain": [
       "True"
      ]
     },
     "execution_count": 11,
     "metadata": {},
     "output_type": "execute_result"
    }
   ],
   "source": [
    "unlabeled_indices==unlabeled_indices2"
   ]
  },
  {
   "cell_type": "code",
   "execution_count": null,
   "metadata": {},
   "outputs": [],
   "source": []
  }
 ],
 "metadata": {
  "kernelspec": {
   "display_name": "NLP",
   "language": "python",
   "name": "python3"
  },
  "language_info": {
   "codemirror_mode": {
    "name": "ipython",
    "version": 3
   },
   "file_extension": ".py",
   "mimetype": "text/x-python",
   "name": "python",
   "nbconvert_exporter": "python",
   "pygments_lexer": "ipython3",
   "version": "3.8.13"
  },
  "orig_nbformat": 4,
  "vscode": {
   "interpreter": {
    "hash": "2d16b7065a7b6c736c1e1086f6450fd457f50d264e4008e1f14cb5793d37f9a9"
   }
  }
 },
 "nbformat": 4,
 "nbformat_minor": 2
}
