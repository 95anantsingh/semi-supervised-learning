{
 "cells": [
  {
   "cell_type": "markdown",
   "metadata": {},
   "source": [
    "# Visualize"
   ]
  },
  {
   "cell_type": "markdown",
   "metadata": {},
   "source": [
    "## 1. Imports"
   ]
  },
  {
   "cell_type": "code",
   "execution_count": 1,
   "metadata": {
    "tags": []
   },
   "outputs": [],
   "source": [
    "import os\n",
    "import re\n",
    "import gc\n",
    "import torch\n",
    "import warnings\n",
    "import numpy as np\n",
    "import pandas as pd\n",
    "import seaborn as sns\n",
    "from tqdm import tqdm\n",
    "from copy import deepcopy\n",
    "import plotly.express as px\n",
    "from plotly.offline import plot\n",
    "import matplotlib.pyplot as plt\n",
    "import plotly.graph_objects as go\n",
    "\n",
    "# import plotly.io as pio\n",
    "# pio.renderers.default = \"notebook\"\n",
    "\n",
    "\n",
    "warnings.filterwarnings(\"ignore\")\n",
    "sns.set_theme(style=\"white\", rc={\"axes.facecolor\": (0, 0, 0, 0)})\n",
    "if sns.__version__ != '0.12.1': raise NotImplementedError"
   ]
  },
  {
   "cell_type": "markdown",
   "metadata": {},
   "source": [
    "### Supporting Functions"
   ]
  },
  {
   "cell_type": "code",
   "execution_count": 2,
   "metadata": {},
   "outputs": [],
   "source": [
    "base_dir = './visuals'\n",
    "\n",
    "subset=''\n",
    "history={}\n",
    "history_dict={}\n",
    "\n",
    "# Access dictionary with dot notation\n",
    "class dotdict(dict):    \n",
    "    \"\"\"dot.notation access to dictionary attributes\"\"\"      \n",
    "    def __getattr__(*args):        \n",
    "        val = dict.get(*args)         \n",
    "        return dotdict(val) if type(val) is dict else val     \n",
    "    __setattr__ = dict.__setitem__     \n",
    "    __delattr__ = dict.__delitem__\n",
    "\n",
    "# Alphanumeric sorting\n",
    "def alpha_sort(iterable): \n",
    "    \"\"\" Sort the given iterable in the way that humans expect.\"\"\" \n",
    "    if iterable[0] and not isinstance(iterable[0], str): return sorted(iterable)\n",
    "    else:\n",
    "        convert = lambda text: int(text) if text.isdigit() else text \n",
    "        alphanum_key = lambda key: [ convert(c) for c in re.split('([0-9]+)', key) ] \n",
    "        return sorted(iterable, key = alphanum_key)\n",
    "\n",
    "# Make save directory\n",
    "def make_save_dir(base_dir,history):\n",
    "    dataset = \"\"\n",
    "    for data in history_dict.datasets:\n",
    "        if data in history['config']['train_data_path']:\n",
    "            dataset = data\n",
    "            break\n",
    "    assert dataset != '', \"Unknown dataset.\"\n",
    "\n",
    "    strategy = history['strategy'] if history['config']['equal_split'] else 'random_'+history['strategy']\n",
    "    plots_dir = os.path.join(base_dir,dataset,strategy)\n",
    "    strat_value = str(history['config'][history['strategy']])\n",
    "\n",
    "    config_str = strat_value+'_LC_'+str(len(history['config']['labeled_classes']))  +'_UC_'+str(len(history['config']['unlabeled_classes']))+\\\n",
    "                '_LS_'+str(history['labeled_set_size'][0])+'_US_'+str(history['unlabeled_set_size'][0])\n",
    "    plots_dir = os.path.join(plots_dir,config_str)\n",
    "    os.makedirs(plots_dir,exist_ok=True)\n",
    "\n",
    "    return plots_dir#, config_str\n",
    "\n",
    "# Class labels\n",
    "class_labels = {'dbpedia_14':{0:'Company', 1:'Edu Institution', 2:'Artist', 3:'Athlete', 4:'Office Holder',5:'Mean Of Trans', 6:'Building',\\\n",
    "                              7:'Natural Place', 8:'Village', 9:'Animal', 10:'Plant', 11:'Album', 12:'Film', 13:'Written Work'},\n",
    "                'yahoo_answers_10':{0:\"Society\", 1:\"Science\", 2:\"Health\", 3:\"Education\", 4:\"Computers\",\\\n",
    "                                    5:\"Sports\", 6:\"Business\", 7:\"Music\", 8:\"Family\", 9:\"Politics\"}}"
   ]
  },
  {
   "cell_type": "markdown",
   "metadata": {},
   "source": [
    "## 2. Load History Files"
   ]
  },
  {
   "cell_type": "markdown",
   "metadata": {
    "jp-MarkdownHeadingCollapsed": true,
    "tags": []
   },
   "source": [
    "### Consolidate"
   ]
  },
  {
   "cell_type": "code",
   "execution_count": null,
   "metadata": {},
   "outputs": [],
   "source": [
    "history_dir = './history'\n",
    "history_dict = dict()\n",
    "for path, dirs, files in os.walk(history_dir):\n",
    "    if not dirs:\n",
    "        dataset = path.split('/')[-2]\n",
    "        strategy = path.split('/')[-1]\n",
    "        for file_ in files:\n",
    "            if dataset in history_dict:\n",
    "                history_dict[dataset][strategy] = []\n",
    "            else:\n",
    "                history_dict[dataset] = {strategy:[]}\n",
    "                \n",
    "            for file_ in alpha_sort(files):\n",
    "                history_dict[dataset][strategy].append(torch.load(os.path.join(path,file_)))"
   ]
  },
  {
   "cell_type": "markdown",
   "metadata": {
    "jp-MarkdownHeadingCollapsed": true,
    "tags": []
   },
   "source": [
    "### Save"
   ]
  },
  {
   "cell_type": "code",
   "execution_count": null,
   "metadata": {},
   "outputs": [],
   "source": [
    "save_path = './history/consolidated_history.pt'\n",
    "torch.save(history_dict,save_path)"
   ]
  },
  {
   "cell_type": "markdown",
   "metadata": {},
   "source": [
    "### Load"
   ]
  },
  {
   "cell_type": "code",
   "execution_count": 3,
   "metadata": {},
   "outputs": [],
   "source": [
    "save_path = './history/consolidated_history.pt'\n",
    "history_dict = dotdict(torch.load(save_path))\n",
    "history_dict.datasets = list(history_dict.keys())\n",
    "history_dict.strategies = [list(history_dict[dataset].keys()) for dataset in history_dict.datasets]"
   ]
  },
  {
   "cell_type": "markdown",
   "metadata": {
    "jp-MarkdownHeadingCollapsed": true,
    "tags": []
   },
   "source": [
    "### Info"
   ]
  },
  {
   "cell_type": "code",
   "execution_count": null,
   "metadata": {},
   "outputs": [
    {
     "name": "stdout",
     "output_type": "stream",
     "text": [
      "Datasets  : ['dbpedia_14', 'yahoo_answers_10']\n",
      "Strategies: [['pc_top_k', 'random_top_k', 'random_pc_top_k', 'top_k', 'threshold'], ['pc_top_k', 'random_top_k', 'random_pc_top_k', 'top_k']]\n",
      "\n",
      "History keys: dict_keys(['strategy', 'config', 'iteration', 'batch_size', 'epoch', 'train_loss', 'train_acc', 'val_loss', 'val_cw_f1', 'val_acc', 'val_cw_acc', 'labeled_set_size', 'unlabeled_set_size', 'selected_set_size', 'selected_in_domain', 'selected_out_domain', 'train_distribution', 'labeled_distribution', 'unlabeled_distribution', 'selected_distribution', 'predicted_distribution', 'pseudo_distribution', 'predicted_probs', 'predicted_prob_mean', 'predicted_prob_std', 'predicted_prob_max', 'predicted_prob_min', 'selected_probs', 'selected_prob_mean', 'selected_prob_std', 'selected_prob_max', 'selected_prob_min'])\n",
      "\n",
      "Config keys : dict_keys(['strategy', 'cache_dir', 'labeled_classes', 'unlabeled_classes', 'eval_size', 'labeled_size', 'unlabeled_size', 'labeled_per_class', 'unlabeled_per_class', 'threshold', 'top_k', 'pc_top_k', 'num_epochs', 'batch_size', 'min_batch_size', 'steps_per_epoch', 'min_total_steps', 'max_patience', 'equal_split', 'sorted_data', 'save_history', 'history_dir', 'train_data_path', 'eval_data_path'])\n",
      "\n",
      "File Counts:\n",
      "\n",
      "Dataset: dbpedia_14\n",
      "40 pc_top_k\n",
      "40 random_top_k\n",
      "40 random_pc_top_k\n",
      "40 top_k\n",
      "14 threshold\n",
      "\n",
      "Dataset: yahoo_answers_10\n",
      "40 pc_top_k\n",
      "40 random_top_k\n",
      "40 random_pc_top_k\n",
      "40 top_k\n"
     ]
    }
   ],
   "source": [
    "print('Datasets  :',history_dict.datasets)\n",
    "print('Strategies:',history_dict.strategies)\n",
    "print('\\nHistory keys:', history_dict[history_dict.datasets[0]][history_dict.strategies[0][0]][0].keys())\n",
    "print('\\nConfig keys :', history_dict[history_dict.datasets[0]][history_dict.strategies[0][0]][0]['config'].keys())\n",
    "\n",
    "print('\\nFile Counts:')\n",
    "for dataset in history_dict.datasets:\n",
    "    print('\\nDataset:', dataset)\n",
    "    for strategy, val in history_dict[dataset].items():\n",
    "        print(len(val), strategy)"
   ]
  },
  {
   "cell_type": "markdown",
   "metadata": {},
   "source": [
    "## 3. Plots"
   ]
  },
  {
   "cell_type": "markdown",
   "metadata": {
    "jp-MarkdownHeadingCollapsed": true,
    "tags": []
   },
   "source": [
    "### 3.1 Probability Distribution Plots"
   ]
  },
  {
   "cell_type": "markdown",
   "metadata": {},
   "source": [
    "#### Supporting Methods"
   ]
  },
  {
   "cell_type": "code",
   "execution_count": 6,
   "metadata": {},
   "outputs": [],
   "source": [
    "# Function to label the plot in axes coordinates\n",
    "def prob_label(x, color, label):\n",
    "    ax = plt.gca()\n",
    "    \n",
    "    ax.text(0.05, .3, str(int(label)+1), fontsize='small',#color=color,# fontweight=\"bold\",\n",
    "        ha=\"left\", va=\"center\", transform=ax.transAxes)\n",
    "    min_ = '%.2f  '  %(history[subset+'_prob_min'][int(label)])\n",
    "    max_ = '%.2f    '%(history[subset+'_prob_max'][int(label)])\n",
    "    std  = '%.2f   ' %(history[subset+'_prob_std'][int(label)])\n",
    "    mean = '%.2f'    %(history[subset+'_prob_mean'][int(label)])\n",
    "    stat = min_+max_+std+mean\n",
    "    ax.text(1, .3, stat, fontsize='small',#color=color,# fontweight=\"bold\",\n",
    "        ha=\"left\", va=\"center\", transform=ax.transAxes)\n",
    "\n",
    "# Function to label the plot in axes coordinates\n",
    "def sel_prob_label(x, color, label):\n",
    "    ax = plt.gca()\n",
    "    \n",
    "    ax.text(0.05, .3, str(int(label)+1), fontsize='small',#color=color,# fontweight=\"bold\",\n",
    "        ha=\"left\", va=\"center\", transform=ax.transAxes)\n",
    "    min_ = '%.2f  '  %(history['selected_prob_min'][int(label)])\n",
    "    max_ = '%.2f    '%(history['selected_prob_max'][int(label)])\n",
    "    std  = '%.2f   ' %(history['selected_prob_std'][int(label)])\n",
    "    mean = '%.2f'    %(history['selected_prob_mean'][int(label)])\n",
    "    stat = min_+max_+std+mean\n",
    "    ax.text(1, .3, stat, fontsize='small',#color=color,# fontweight=\"bold\",\n",
    "        ha=\"left\", va=\"center\", transform=ax.transAxes)"
   ]
  },
  {
   "cell_type": "markdown",
   "metadata": {},
   "source": [
    "#### Plot"
   ]
  },
  {
   "cell_type": "code",
   "execution_count": null,
   "metadata": {},
   "outputs": [
    {
     "name": "stdout",
     "output_type": "stream",
     "text": [
      "Dataset  : yahoo_answers_10\n",
      "Strategy : random_top_k\n",
      "Indices  : [20, 0, 1, 3]\n",
      "Unique   : [11, 21, 41, 81]\n",
      "Iter Lens: [21, 41, 41, 81, 21, 41, 41, 81, 21, 41, 41, 81, 21, 41, 41, 81, 21, 41, 41, 81, 11, 21, 21, 41, 11, 21, 21, 41, 11, 21, 21, 41, 11, 21, 21, 41, 11, 21, 21, 41]\n"
     ]
    }
   ],
   "source": [
    "dataset = history_dict.datasets[1]\n",
    "strategy = history_dict.strategies[1][1]\n",
    "history_list = history_dict[dataset][strategy]\n",
    "\n",
    "iter_lens = [len(history['iteration']) for history in history_list]\n",
    "sorted_ = sorted(list(set(iter_lens)))\n",
    "indices = [iter_lens.index(val) for val in sorted_]\n",
    "print('Dataset  :', dataset)\n",
    "print('Strategy :', strategy)\n",
    "print('Indices  :', indices)\n",
    "print('Unique   :', sorted_)\n",
    "print('Iter Lens:', iter_lens)"
   ]
  },
  {
   "cell_type": "code",
   "execution_count": null,
   "metadata": {},
   "outputs": [],
   "source": [
    "indices =  [20, 0, 1]\n",
    "subset = 'predicted' # selected , predicted\n",
    "\n",
    "for index in indices:\n",
    "    # Load Probs from history\n",
    "    history = history_list[index]\n",
    "\n",
    "    # Make a dataframe to plot\n",
    "    probs = []\n",
    "    iterations = []\n",
    "    for itr, prob_list in enumerate(history[subset+'_probs']):\n",
    "        probs += list(prob_list)\n",
    "        iterations += ([itr]*len(prob_list))\n",
    "    df = pd.DataFrame(dict(probability=probs, iteration=iterations))\n",
    "\n",
    "    # Set size to ensure same width\n",
    "    iterations = len(history['iteration'])\n",
    "    height = 0.5\n",
    "    # width = (0.001 * iterations) + 6 if iterations > 15 else (0.001 * iterations) + 4.4\n",
    "    aspect = 12 if iterations > 22 else 8.2\n",
    "\n",
    "    # Initialize the FacetGrid object\n",
    "    grid = sns.FacetGrid(df, row=\"iteration\", hue=\"iteration\", aspect=aspect, height=height,\n",
    "        sharey=False, sharex=True, palette=sns.color_palette(\"husl\", len(history['iteration'])))\n",
    "\n",
    "    # Plot the densities\n",
    "    line_color = {'selected':'black', 'predicted':'white'}\n",
    "    line_width = {'selected':1, 'predicted':1.5}\n",
    "    grid.map(sns.kdeplot, \"probability\", fill=False, alpha = 1,color = line_color[subset], lw=line_width[subset], clip_on=False)\n",
    "    grid.map(sns.kdeplot, \"probability\", fill=True, alpha = 1, lw = 1.2,clip_on=False)\n",
    "\n",
    "    # Passing color=None to refline() uses the hue mapping\n",
    "    grid.refline(y=-0, linewidth=0.3, linestyle=\"-\", color=None, clip_on=False)\n",
    "\n",
    "    # Set labels\n",
    "    grid.map(prob_label, \"probability\")\n",
    "\n",
    "    # Set the subplots to overlap\n",
    "    grid.figure.subplots_adjust(hspace=-.15)\n",
    "\n",
    "    # Set axes details\n",
    "    grid.set_titles(\"\")\n",
    "    grid.set(yticks=[], ylabel=\"\")\n",
    "    grid.despine(bottom=True, left=True)\n",
    "    plt.xticks([0.2,0.4,0.6,0.8,1.0], fontsize='small')\n",
    "\n",
    "    # Set headings\n",
    "    plt.suptitle(subset.title()+\" Probability Distribution\",fontsize='large', y = 1.005)\n",
    "    plt.text(0,.8,\"Iteration\",transform=plt.gcf().get_axes()[0].transAxes, fontdict={'fontsize':'medium'})\n",
    "    plt.text(1,.8,\"Min  Max  STD  Mean\",transform=plt.gcf().get_axes()[0].transAxes,fontdict={'fontsize':'medium'})\n",
    "\n",
    "    # Plot\n",
    "    # plt.savefig(str(len(history['iteration'])),bbox_inches='tight')\n",
    "    plt.show();\n",
    "    ####################################################"
   ]
  },
  {
   "cell_type": "markdown",
   "metadata": {},
   "source": [
    "#### Save"
   ]
  },
  {
   "cell_type": "code",
   "execution_count": null,
   "metadata": {},
   "outputs": [],
   "source": [
    "datasets = history_dict.datasets\n",
    "strategies = history_dict.strategies[1]\n",
    "subsets = ['selected' , 'predicted']\n",
    "for dataset in datasets:\n",
    "    for strategy in strategies:\n",
    "        history_list = history_dict[dataset][strategy]\n",
    "        for subset in subsets:\n",
    "            for history in tqdm(history_list, desc=dataset.title()+', '+strategy.title()+', '+subset.title()):\n",
    "                # Make save dir\n",
    "                plots_dir = make_save_dir(base_dir,history)\n",
    "                \n",
    "                # Make a dataframe to plot\n",
    "                probs = []\n",
    "                iterations = []\n",
    "                for itr, prob_list in enumerate(history[subset+'_probs']):\n",
    "                    probs += list(prob_list)\n",
    "                    iterations += ([itr]*len(prob_list))\n",
    "                df = pd.DataFrame(dict(probability=probs, iteration=iterations))\n",
    "\n",
    "                # Set size to ensure same width\n",
    "                iterations = len(history['iteration'])\n",
    "                height = 0.5\n",
    "                aspect = 12 if iterations > 22 else 8.2\n",
    "\n",
    "                # Initialize the FacetGrid object\n",
    "                grid = sns.FacetGrid(df, row=\"iteration\", hue=\"iteration\", aspect=aspect, height=height,\n",
    "                    sharey=False, sharex=True, palette=sns.color_palette(\"husl\", len(history['iteration'])))\n",
    "\n",
    "                # Plot the densities\n",
    "                line_color = {'selected':'black', 'predicted':'white'}\n",
    "                line_width = {'selected':1, 'predicted':1.5}\n",
    "                # grid.map(sns.kdeplot, \"probability\", fill=False, alpha = 1,color = line_color[subset], lw=line_width[subset], clip_on=False)\n",
    "                grid.map(sns.kdeplot, \"probability\", fill=False, alpha = 1,color = 'black', lw=1, clip_on=False)\n",
    "                grid.map(sns.kdeplot, \"probability\", fill=True, alpha = 1, lw = 1.2, clip_on=False)\n",
    "\n",
    "                # Passing color=None to refline() uses the hue mapping\n",
    "                grid.refline(y=-0, linewidth=0.3, linestyle=\"-\", color=None, clip_on=False)\n",
    "\n",
    "                # Set labels\n",
    "                grid.map(prob_label, \"probability\")\n",
    "\n",
    "                # Set the subplots to overlap\n",
    "                grid.figure.subplots_adjust(hspace=-.15)\n",
    "\n",
    "                # Set axes details\n",
    "                grid.set_titles(\"\")\n",
    "                grid.set(yticks=[], ylabel=\"\")\n",
    "                grid.despine(bottom=True, left=True)\n",
    "                plt.xticks([0.2,0.4,0.6,0.8,1.0], fontsize='small')\n",
    "\n",
    "                # Set headings\n",
    "                plt.suptitle(subset.title()+\" Probability Distribution\",fontsize='large',x=0.55, y = 1.005)\n",
    "                plt.text(0,.8,\"Iteration\",transform=plt.gcf().get_axes()[0].transAxes, fontdict={'fontsize':'medium'})\n",
    "                plt.text(1,.8,\"Min  Max  STD  Mean\",transform=plt.gcf().get_axes()[0].transAxes,fontdict={'fontsize':'medium'})\n",
    "\n",
    "                # Save\n",
    "                # plt.savefig(plots_dir+'/'+config_str+' '+subset+\"_prob_dist.png\",bbox_inches=\"tight\");\n",
    "                # plt.savefig(plots_dir+'/'+subset+\"_prob_dist.png\",bbox_inches=\"tight\");\n",
    "                plt.clf();\n",
    "                plt.close('all');\n",
    "                del(df)\n",
    "                del(history)\n",
    "                del(grid)\n",
    "                gc.collect()"
   ]
  },
  {
   "cell_type": "markdown",
   "metadata": {
    "jp-MarkdownHeadingCollapsed": true,
    "tags": []
   },
   "source": [
    "### 3.2 Class Distribution Plots"
   ]
  },
  {
   "cell_type": "markdown",
   "metadata": {},
   "source": [
    "#### Supporting Methods"
   ]
  },
  {
   "cell_type": "code",
   "execution_count": 10,
   "metadata": {},
   "outputs": [],
   "source": [
    "# Function to label the plot in axes coordinates\n",
    "def class_label(x, color, label):\n",
    "    ax = plt.gca()\n",
    "    if subset.lower() == 'selected':\n",
    "        txt = history['selected_set_size'][int(label)]\n",
    "        in_do = ' '*(3-len(str(txt)))+'   '+str(history['selected_in_domain'][int(label)]) +' '*(3-len(str(history['selected_in_domain'][int(label)])))\n",
    "        out_do = '   '+str(history['selected_out_domain'][int(label)])\n",
    "        txt = str(txt) + in_do + out_do\n",
    "    elif subset.lower() == 'labeled' or subset.lower() == 'train':\n",
    "        txt = history['labeled_set_size'][int(label)]\n",
    "    elif subset.lower() == 'unlabeled' or subset.lower() == 'predicted':\n",
    "        txt = history['unlabeled_set_size'][int(label)]\n",
    "    elif subset.lower() == 'pseudo':\n",
    "        txt = history['selected_set_size'][int(label)]\n",
    "    else: raise NotImplementedError\n",
    "    \n",
    "    ax.text(-0.15, .2, str(int(label)+1), fontsize='small', ha=\"left\", va=\"center\", transform=ax.transAxes)\n",
    "    ax.text(1.05, .2, str(txt), fontsize='small', ha=\"left\", va=\"center\", transform=ax.transAxes)"
   ]
  },
  {
   "cell_type": "markdown",
   "metadata": {},
   "source": [
    "#### Plot"
   ]
  },
  {
   "cell_type": "code",
   "execution_count": 15,
   "metadata": {},
   "outputs": [
    {
     "name": "stdout",
     "output_type": "stream",
     "text": [
      "Dataset  : yahoo_answers_10\n",
      "Strategy : pc_top_k\n",
      "Subset   : train\n",
      "Indices  : [24, 20, 4, 0, 1, 6, 15, 7, 3]\n",
      "\n",
      "Unique   : ('12 5', 24) ('13 5', 20) ('22 5', 4) ('23 5', 0) ('42 5', 1) ('43 5', 6) ('82 5', 15) ('83 5', 7) ('85 5', 3)\n",
      "\n",
      "Iter Lens: ['23 5', '42 5', '42 5', '85 5', '22 5', '42 5', '43 5', '83 5', '22 5', '42 5', '42 5', '83 5', '22 5', '42 5', '42 5', '82 5', '22 5', '43 5', '42 5', '82 5', '13 5', '23 5', '22 5', '42 5', '12 5', '22 5', '22 5', '43 5', '12 5', '22 5', '23 5', '42 5', '12 5', '22 5', '22 5', '42 5', '12 5', '22 5', '22 5', '42 5']\n"
     ]
    }
   ],
   "source": [
    "dataset = history_dict.datasets[1]\n",
    "strategy = history_dict.strategies[1][0]\n",
    "history_list = history_dict[dataset][strategy]\n",
    "\n",
    "subset = 'train'      # 'pseudo', 'labeled', 'unlabeled', 'train', 'predicted', 'selected', \n",
    "\n",
    "iter_lens = [str(len(history[subset.lower()+'_distribution']))+' '+str(len(history[subset.lower()+'_distribution'][0])) for history in history_list]\n",
    "sorted_ = alpha_sort(list(set(iter_lens)))\n",
    "indices = [iter_lens.index(val) for val in sorted_]\n",
    "print('Dataset  :', dataset)\n",
    "print('Strategy :', strategy)\n",
    "print('Subset   :', subset)\n",
    "print('Indices  :', indices)\n",
    "print('\\nUnique   :', *zip(sorted_,indices))\n",
    "print('\\nIter Lens:', iter_lens)"
   ]
  },
  {
   "cell_type": "code",
   "execution_count": null,
   "metadata": {},
   "outputs": [],
   "source": [
    "indices = [28, 0, 6]\n",
    "\n",
    "for index in indices:\n",
    "    # Load distribution from history\n",
    "    history = history_list[index]\n",
    "\n",
    "    # Make a dataframe to plot\n",
    "    classes = []\n",
    "    count = []\n",
    "    total = []\n",
    "    iteration = []\n",
    "    for itr, dist in enumerate(history[subset.lower()+'_distribution']):\n",
    "        classes += list(dist.keys())\n",
    "        count += list(dist.values())\n",
    "        total += list(history['unlabeled_distribution'][itr].values())\n",
    "        iteration += [itr]*len(list(dist.keys()))\n",
    "\n",
    "    if subset == 'selected': df = pd.DataFrame(dict(classes=classes, count=count, total=total, iteration=iteration))\n",
    "    else: df = pd.DataFrame(dict(classes=classes, count=count, iteration=iteration))\n",
    "\n",
    "    # Initialize the FacetGrid object\n",
    "    iterations  = len(history[subset.lower() + '_distribution'])\n",
    "    class_count = len(history[subset.lower() + '_distribution'][0])\n",
    "\n",
    "    if dataset == 'dbpedia_14':\n",
    "        if subset == 'selected':\n",
    "            if class_count == 14: aspect = 12 if iterations > 22 else 9\n",
    "            else: aspect = 7.8 if iterations > 21 else 4.5\n",
    "        elif subset == 'pseudo' or subset == 'predicted':\n",
    "            aspect = 6.5 if iterations > 21 else 4.5\n",
    "        else:\n",
    "            if class_count == 14: aspect = 11   \n",
    "            else: aspect = 6.6 if iterations > 15 else 4.5\n",
    "    elif dataset == 'yahoo_answers_10':\n",
    "        if subset == 'selected':\n",
    "            if class_count == 10: \n",
    "                if iterations > 21: aspect = 10\n",
    "                elif iterations > 15: aspect = 6.7\n",
    "                else: aspect = 6.3\n",
    "            else: \n",
    "                if iterations > 21: aspect = 6.8 \n",
    "                elif iterations > 15: aspect = 4\n",
    "                else: aspect= 3.3\n",
    "        elif subset == 'pseudo':\n",
    "            if iterations > 21: aspect = 5.1  \n",
    "            elif iterations > 15: aspect = 4  \n",
    "            else: aspect = 3.3\n",
    "        elif subset == 'predicted':\n",
    "            if iterations > 21: aspect = 5.7\n",
    "            elif iterations > 15: aspect = 4  \n",
    "            else: aspect = 3.3\n",
    "        else: \n",
    "            if iterations > 21: aspect = 5.7\n",
    "            elif iterations > 15: aspect = 4  \n",
    "            else: aspect = 3.3\n",
    "    else: raise NotImplementedError\n",
    "    \n",
    "    # Set size to ensure same width\n",
    "    height = 0.5\n",
    "    grid = sns.FacetGrid(df, row=\"iteration\", hue=\"iteration\", aspect=aspect, height=height,\\\n",
    "        sharey=True if subset=='selected' else False, sharex=True, palette=sns.color_palette(\"husl\", iterations))\n",
    "\n",
    "    # Draw the densities in a few steps\n",
    "    if subset=='selected':\n",
    "        grid.map(sns.barplot, 'classes', 'total', errorbar=None, alpha=0.4, clip_on=False)    \n",
    "    grid.map(sns.barplot, 'classes', 'count', errorbar=None, clip_on=False)\n",
    "        \n",
    "    # Passing color=None to refline() uses the hue mapping\n",
    "    grid.refline(y=0, linewidth=0.5, linestyle=\"-\", color=None, clip_on=False)\n",
    "\n",
    "    # Set labels\n",
    "    grid.map(class_label, \"classes\")\n",
    "\n",
    "    # Set the subplots to overlap\n",
    "    grid.figure.subplots_adjust(hspace=-.005)\n",
    "\n",
    "    # Set axes details\n",
    "    grid.set_titles(\"\")\n",
    "    grid.set(yticks=[], ylabel=\"\")\n",
    "    grid.despine(bottom=True, left=True)\n",
    "\n",
    "    # Set headings\n",
    "    ticks = list(history[subset.lower()+'_distribution'][0].keys())\n",
    "    labels = [class_labels[dataset][tick] for tick in ticks]\n",
    "    plt.xticks(ticks,labels=labels,rotation='vertical')\n",
    "    plt.suptitle(subset.title()+\" Set Class Distribution\", fontsize='large', x=0.5, y=1.005)\n",
    "    plt.text(-0.15,1,\"Iteration\", transform=plt.gcf().get_axes()[0].transAxes, fontdict={'fontsize':'medium'})\n",
    "    if subset =='selected':\n",
    "        plt.text(1.05,1,'Size  In  Out', transform=plt.gcf().get_axes()[0].transAxes, fontdict={'fontsize':'medium'})\n",
    "    else:\n",
    "        plt.text(1.05,1,'Size', transform=plt.gcf().get_axes()[0].transAxes, fontdict={'fontsize':'medium'})\n",
    "\n",
    "    # Plot\n",
    "    # plt.savefig('ztest/'+str(iterations)+'_'+subset,bbox_inches=\"tight\")\n",
    "    plt.show();\n",
    "    ##"
   ]
  },
  {
   "cell_type": "markdown",
   "metadata": {},
   "source": [
    "#### Save"
   ]
  },
  {
   "cell_type": "code",
   "execution_count": 18,
   "metadata": {},
   "outputs": [
    {
     "name": "stderr",
     "output_type": "stream",
     "text": [
      "Dbpedia_14, Pc_Top_K, Train: 100%|██████████| 40/40 [07:13<00:00, 10.83s/it]\n",
      "Dbpedia_14, Random_Top_K, Train: 100%|██████████| 40/40 [06:14<00:00,  9.35s/it]\n",
      "Dbpedia_14, Random_Pc_Top_K, Train: 100%|██████████| 40/40 [07:16<00:00, 10.90s/it]\n",
      "Dbpedia_14, Top_K, Train: 100%|██████████| 40/40 [06:13<00:00,  9.35s/it]\n",
      "Yahoo_Answers_10, Pc_Top_K, Train: 100%|██████████| 40/40 [05:46<00:00,  8.67s/it]\n",
      "Yahoo_Answers_10, Random_Top_K, Train: 100%|██████████| 40/40 [05:21<00:00,  8.04s/it]\n",
      "Yahoo_Answers_10, Random_Pc_Top_K, Train: 100%|██████████| 40/40 [05:47<00:00,  8.70s/it]\n",
      "Yahoo_Answers_10, Top_K, Train: 100%|██████████| 40/40 [05:21<00:00,  8.05s/it]\n"
     ]
    }
   ],
   "source": [
    "# ['pseudo', 'labeled', 'unlabeled', 'train', 'predicted', 'selected']\n",
    "datasets = history_dict.datasets\n",
    "strategies = history_dict.strategies[1]\n",
    "subsets = ['train']#,'pseudo','predicted','selected']\n",
    "for dataset in datasets:\n",
    "    for strategy in strategies:\n",
    "        history_list = history_dict[dataset][strategy]\n",
    "        for subset in subsets:\n",
    "            for history in tqdm(history_list, desc=dataset.title()+', '+strategy.title()+', '+subset.title()):\n",
    "\n",
    "                # Make save dir\n",
    "                plots_dir = make_save_dir(base_dir,history)\n",
    "\n",
    "                # Make a dataframe to plot\n",
    "                classes = []\n",
    "                count = []\n",
    "                total = []\n",
    "                iteration = []\n",
    "                for itr, dist in enumerate(history[subset.lower()+'_distribution']):\n",
    "                    classes += list(dist.keys())\n",
    "                    count += list(dist.values())\n",
    "                    total += list(history['unlabeled_distribution'][itr].values())\n",
    "                    iteration += [itr]*len(list(dist.keys()))\n",
    "\n",
    "                if subset == 'selected': df = pd.DataFrame(dict(classes=classes, count=count, total=total, iteration=iteration))\n",
    "                else: df = pd.DataFrame(dict(classes=classes, count=count, iteration=iteration))\n",
    "\n",
    "                # Initialize the FacetGrid object\n",
    "                iterations  = len(history[subset.lower() + '_distribution'])\n",
    "                class_count = len(history[subset.lower() + '_distribution'][0])\n",
    "\n",
    "                if dataset == 'dbpedia_14':\n",
    "                    if subset == 'selected':\n",
    "                        if class_count == 14: aspect = 12 if iterations > 22 else 9\n",
    "                        else: aspect = 7.8 if iterations > 21 else 4.5\n",
    "                    elif subset == 'pseudo' or subset == 'predicted':\n",
    "                        aspect = 6.5 if iterations > 21 else 4.5\n",
    "                    else:\n",
    "                        if class_count == 14: aspect = 11   \n",
    "                        else: aspect = 6.5 if iterations > 15 else 4.5\n",
    "                elif dataset == 'yahoo_answers_10':\n",
    "                    if subset == 'selected':\n",
    "                        if class_count == 10: \n",
    "                            if iterations > 21: aspect = 10\n",
    "                            elif iterations > 15: aspect = 6.7\n",
    "                            else: aspect = 6.3\n",
    "                        else: \n",
    "                            if iterations > 21: aspect = 6.8 \n",
    "                            elif iterations > 15: aspect = 4\n",
    "                            else: aspect= 3.3\n",
    "                    elif subset == 'pseudo':\n",
    "                        if iterations > 21: aspect = 5.1  \n",
    "                        elif iterations > 15: aspect = 4  \n",
    "                        else: aspect = 3.3\n",
    "                    elif subset == 'predicted':\n",
    "                        if iterations > 21: aspect = 5.7\n",
    "                        elif iterations > 15: aspect = 4  \n",
    "                        else: aspect = 3.3\n",
    "                    else: \n",
    "                        if iterations > 21: aspect = 5.7\n",
    "                        elif iterations > 15: aspect = 4  \n",
    "                        else: aspect = 3.3\n",
    "                else: raise NotImplementedError\n",
    "                \n",
    "                # Set size to ensure same width\n",
    "                height = 0.5\n",
    "                grid = sns.FacetGrid(df, row=\"iteration\", hue=\"iteration\", aspect=aspect, height=height,\\\n",
    "                    sharey=True if subset=='selected' else False, sharex=True, palette=sns.color_palette(\"husl\", iterations))\n",
    "\n",
    "                # Draw the densities in a few steps\n",
    "                if subset=='selected':\n",
    "                    grid.map(sns.barplot, 'classes', 'total', errorbar=None, alpha=0.4, clip_on=False)    \n",
    "                grid.map(sns.barplot, 'classes', 'count', errorbar=None, clip_on=False)\n",
    "                    \n",
    "                # Passing color=None to refline() uses the hue mapping\n",
    "                grid.refline(y=0, linewidth=0.5, linestyle=\"-\", color=None, clip_on=False)\n",
    "\n",
    "                # Set labels\n",
    "                grid.map(class_label, \"classes\")\n",
    "\n",
    "                # Set the subplots to overlap\n",
    "                grid.figure.subplots_adjust(hspace=-.005)\n",
    "\n",
    "                # Set axes details\n",
    "                grid.set_titles(\"\")\n",
    "                grid.set(yticks=[], ylabel=\"\")\n",
    "                grid.despine(bottom=True, left=True)\n",
    "\n",
    "                # Set headings\n",
    "                ticks = list(history[subset.lower()+'_distribution'][0].keys())\n",
    "                labels = [class_labels[dataset][tick] for tick in ticks]\n",
    "                plt.xticks(ticks,labels=labels,rotation='vertical')\n",
    "                plt.suptitle(subset.title()+\" Set Class Distribution\", fontsize='large', x=0.5, y=1.005)\n",
    "                plt.text(-0.15,1,\"Iteration\", transform=plt.gcf().get_axes()[0].transAxes, fontdict={'fontsize':'medium'})\n",
    "                if subset =='selected':\n",
    "                    plt.text(1.05,1,'Size  In  Out', transform=plt.gcf().get_axes()[0].transAxes, fontdict={'fontsize':'medium'})\n",
    "                else:\n",
    "                    plt.text(1.05,1,'Size', transform=plt.gcf().get_axes()[0].transAxes, fontdict={'fontsize':'medium'})\n",
    "\n",
    "\n",
    "                # Save\n",
    "                plt.savefig(plots_dir+'/'+subset+\"_set_class_dist.png\",bbox_inches=\"tight\");\n",
    "                plt.clf();\n",
    "                plt.close('all');\n",
    "                del(df)\n",
    "                del(history)\n",
    "                del(grid)\n",
    "                gc.collect()"
   ]
  },
  {
   "cell_type": "markdown",
   "metadata": {},
   "source": [
    "### 3.3 Metric plots"
   ]
  },
  {
   "cell_type": "markdown",
   "metadata": {
    "tags": []
   },
   "source": [
    "#### Accuracy Comparison"
   ]
  },
  {
   "attachments": {},
   "cell_type": "markdown",
   "metadata": {},
   "source": [
    "##### Plotly New"
   ]
  },
  {
   "attachments": {},
   "cell_type": "markdown",
   "metadata": {},
   "source": [
    "Strategy Level"
   ]
  },
  {
   "cell_type": "code",
   "execution_count": 47,
   "metadata": {},
   "outputs": [
    {
     "name": "stdout",
     "output_type": "stream",
     "text": [
      "./visuals/dbpedia_14/pc_top_k\n",
      "./visuals/dbpedia_14/random_top_k\n",
      "./visuals/dbpedia_14/random_pc_top_k\n",
      "./visuals/dbpedia_14/top_k\n",
      "./visuals/yahoo_answers_10/pc_top_k\n",
      "./visuals/yahoo_answers_10/random_top_k\n",
      "./visuals/yahoo_answers_10/random_pc_top_k\n",
      "./visuals/yahoo_answers_10/top_k\n"
     ]
    }
   ],
   "source": [
    "# Plot Accuracy Comparisons\n",
    "widths = {35: 1.5, 50 : 1.5, 250 : 1.5,\n",
    "          70: 3  , 100: 3  , 500 : 3}\n",
    "\n",
    "# dict(color='LightSkyBlue', line=dict(color='MediumPurple', width=2), size=10, symbol='circle'),\n",
    "markers = {'pc_top_k'       :dict(size=6, symbol='circle'),\n",
    "           'random_pc_top_k':dict(size=6, symbol='square'),\n",
    "           'random_top_k'   :dict(size=6, symbol='x'),\n",
    "           'top_k'          :dict(size=6, symbol='diamond-tall')}\n",
    "\n",
    "#            Blue                  Red                   Green                 Yellow                Purple\n",
    "#            Dark       Light      Dark       Light      Dark       Light      Dark       Light      Dark       Light\n",
    "# colors = ['#1e74ae', '#7cbde9', '#cd181b', '#f28c8e', '#34a02c', '#a2d973', '#cb8e01', '#fdd068', '#7141a4', '#af8ac1']\n",
    "colors = {5 :{25:'#7cbde9', 50:'#f28c8e', 100:'#a2d973', 250:'#fdd068', 750 :'#af8ac1'},\n",
    "          7 :{35:'#7cbde9', 70:'#f28c8e', 140:'#a2d973', 350:'#fdd068', 1050:'#af8ac1'},\n",
    "          10:{25:'#1e74ae', 50:'#cd181b', 100:'#34a02c', 250:'#cb8e01', 750 :'#7141a4'},\n",
    "          14:{35:'#1e74ae', 70:'#cd181b', 140:'#34a02c', 350:'#cb8e01', 1050:'#7141a4'}}\n",
    "\n",
    "# types = ['dash', 'dashdot', 'dot', 'longdash', 'longdashdot', 'solid']\n",
    "dashes = {5000:'dash', 10000:'solid', 20000:'dashdot',\n",
    "          5250:'dash', 10500:'solid', 21000:'dashdot'}\n",
    "\n",
    "\n",
    "for dataset in history_dict.datasets:\n",
    "    for strategy in history_dict.strategies[1]:\n",
    "        history_list = history_dict[dataset][strategy]\n",
    "        fig = go.Figure()\n",
    "\n",
    "        # Legend Keys\n",
    "        strat_values = set()\n",
    "        unlabeled_classes = set()\n",
    "        labeled_sizes = set()\n",
    "        unlabeled_sizes = set()\n",
    "        for history in history_list:\n",
    "            strat_values.add(history['config'][history['strategy']])\n",
    "            unlabeled_classes.add(len(history['config']['unlabeled_classes']))\n",
    "            labeled_sizes.add(history['labeled_set_size'][0])\n",
    "            unlabeled_sizes.add(history['unlabeled_set_size'][0])\n",
    "        \n",
    "        # strat_value\n",
    "        for value in strat_values:\n",
    "            fig.add_trace(\n",
    "                go.Scatter(\n",
    "                    mode='lines',\n",
    "                    x = [None],\n",
    "                    y = [None],\n",
    "                    line = dict(width=widths[value],color='black'),\n",
    "                    name = str(value),\n",
    "                    legendgroup='strat_value',\n",
    "                    legendgrouptitle_text='Strategy Value (SV)',\n",
    "                ))\n",
    "        # labeled_size, unlabeled_classes\n",
    "        for size in alpha_sort(list(labeled_sizes)):\n",
    "            for classes in alpha_sort(list(unlabeled_classes)):\n",
    "                fig.add_trace(\n",
    "                    go.Scatter(\n",
    "                        mode='lines',\n",
    "                        x = [None],\n",
    "                        y = [None],\n",
    "                        line = dict(width=4,color=colors[classes][size],dash='solid'),\n",
    "                        name = str(size)+' ; '+str(classes),\n",
    "                        legendgroup='labeled_size_unlabeled_classes',\n",
    "                        legendgrouptitle_text='Labeled Size (LS) ; Unlabeled Classes (UC)',\n",
    "                    ))\n",
    "        # unlabeled_size\n",
    "        for size in unlabeled_sizes:\n",
    "            fig.add_trace(\n",
    "                go.Scatter(\n",
    "                    mode='lines',\n",
    "                    x = [None],\n",
    "                    y = [None],\n",
    "                    line = dict(width=3.5,color='black',dash=dashes[size]),\n",
    "                    name = str(size),\n",
    "                    legendgroup='unlabeled_size',\n",
    "                    legendgrouptitle_text='Unlabeled Size (US)',\n",
    "                ))\n",
    "        \n",
    "        for history in history_list:\n",
    "            \n",
    "            # strategy = history['config']['strategy']\n",
    "            strategy_text = ' '.join(strategy.split('_')).title() if history['config']['equal_split'] else ' '.join(strategy.split('_')).title() + ' (Random)'\n",
    "            strat_value = history['config'][history['strategy']]\n",
    "            labeled_classes = len(history['config']['labeled_classes'])\n",
    "            unlabeled_classes = len(history['config']['unlabeled_classes'])\n",
    "            labeled_size = history['labeled_set_size'][0]\n",
    "            unlabeled_size = history['unlabeled_set_size'][0]\n",
    "\n",
    "            fig.add_trace(\n",
    "                go.Scatter(\n",
    "                    mode='lines',\n",
    "                    x = [*range(1,len(history['val_acc'])+1)],\n",
    "                    y = [max(accs) for accs in  history['val_acc']],\n",
    "                    line = dict(width=widths[strat_value],\n",
    "                                color=colors[unlabeled_classes][labeled_size],\n",
    "                                dash=dashes[unlabeled_size]),\n",
    "                    name = 'SV '+str(strat_value)+'; LS '+str(labeled_size)+'; US '+str(unlabeled_size)+'; UC '+str(unlabeled_classes),\n",
    "                    # legendgroup=strategy,\n",
    "                    # legendgrouptitle_text=strategy_text,\n",
    "                    # # marker = markers[strategy],\n",
    "                )\n",
    "            )\n",
    "            \n",
    "        fig.update_layout(\n",
    "        legend=dict(\n",
    "                font=dict(size=13,color=\"black\"),\n",
    "                groupclick=\"toggleitem\",\n",
    "                itemdoubleclick='toggleothers',\n",
    "                grouptitlefont=dict(size=15,color='black')\n",
    "            ),\n",
    "            title=dict(text='Accuracy Plot',font=dict(size=25)),\n",
    "            font=dict(size=15),\n",
    "            template='plotly_white')\n",
    "        fig.update_xaxes(title_text='iteration')\n",
    "        fig.update_yaxes(title_text='accuracy')\n",
    "        os.makedirs(base_dir+'/'+dataset+'/'+strategy,exist_ok=True)\n",
    "        print(base_dir+'/'+dataset+'/'+strategy)\n",
    "        fig.write_html(base_dir+'/'+dataset+'/'+strategy+\"/acc_comparison.html\", auto_open=False)\n",
    "        "
   ]
  },
  {
   "attachments": {},
   "cell_type": "markdown",
   "metadata": {},
   "source": [
    "Dataset Level"
   ]
  },
  {
   "cell_type": "code",
   "execution_count": 49,
   "metadata": {},
   "outputs": [
    {
     "name": "stdout",
     "output_type": "stream",
     "text": [
      "./visuals/dbpedia_14/top_k\n",
      "./visuals/yahoo_answers_10/top_k\n"
     ]
    }
   ],
   "source": [
    "# Plot Accuracy Comparisons\n",
    "widths = {35: 1.5, 50 : 1.5, 250 : 1.5,\n",
    "          70: 3  , 100: 3  , 500 : 3}\n",
    "\n",
    "widths_key = {'dbpedia_14'      :{'35, 250':1.5, '70, 500':3},\n",
    "              'yahoo_answers_10':{'50, 250':1.5, '100, 500':3}}\n",
    "\n",
    "# dict(color='LightSkyBlue', line=dict(color='MediumPurple', width=2), size=10, symbol='circle'),\n",
    "markers = {'pc_top_k'       :dict(size=6, symbol='circle'),\n",
    "           'random_pc_top_k':dict(size=6, symbol='square'),\n",
    "           'random_top_k'   :dict(size=6, symbol='x'),\n",
    "           'top_k'          :dict(size=6, symbol='diamond-tall')}\n",
    "markers_key = {key:val['symbol'] for key,val in markers.items()}\n",
    "#            Blue                  Red                   Green                 Yellow                Purple\n",
    "#            Dark       Light      Dark       Light      Dark       Light      Dark       Light      Dark       Light\n",
    "# colors = ['#1e74ae', '#7cbde9', '#cd181b', '#f28c8e', '#34a02c', '#a2d973', '#cb8e01', '#fdd068', '#7141a4', '#af8ac1']\n",
    "colors = {5 :{25:'#7cbde9', 50:'#f28c8e', 100:'#a2d973', 250:'#fdd068', 750 :'#af8ac1'},\n",
    "          7 :{35:'#7cbde9', 70:'#f28c8e', 140:'#a2d973', 350:'#fdd068', 1050:'#af8ac1'},\n",
    "          10:{25:'#1e74ae', 50:'#cd181b', 100:'#34a02c', 250:'#cb8e01', 750 :'#7141a4'},\n",
    "          14:{35:'#1e74ae', 70:'#cd181b', 140:'#34a02c', 350:'#cb8e01', 1050:'#7141a4'}}\n",
    "\n",
    "colors_key = {'dbpedia_14'      :{'35':'#1e74ae', '70':'#cd181b', '140':'#34a02c','1050':'#7141a4'},\n",
    "              'yahoo_answers_10':{'25':'#1e74ae', '50':'#cd181b', '100':'#34a02c','750':'#7141a4'}}\n",
    "contrast_key = {'dbpedia_14'      :{'7 (light)':'lightgrey', '14 (dark)':'black'},\n",
    "                'yahoo_answers_10':{'5 (light)':'lightgrey', '10 (dark)':'black'}}\n",
    "\n",
    "# types = ['dash', 'dashdot', 'dot', 'longdash', 'longdashdot', 'solid']\n",
    "dashes = {5000:'dash', 10000:'solid', 20000:'dashdot',\n",
    "          5250:'dash', 10500:'solid', 21000:'dashdot'}\n",
    "dashes_key = {'dbpedia_14'      :{'5250':'dash','10500':'solid','21000':'dashdot'},\n",
    "              'yahoo_answers_10':{'5000':'dash','10000':'solid','20000':'dashdot'}}\n",
    "\n",
    "for dataset in history_dict.datasets:\n",
    "    fig = go.Figure()\n",
    "            # fig = go.Figure()\n",
    "\n",
    "    # Legend Keys\n",
    "    # stratrgy\n",
    "    for key,value in markers_key.items():\n",
    "        fig.add_trace(\n",
    "            go.Scatter(\n",
    "                mode='markers',\n",
    "                x = [None],\n",
    "                y = [None],\n",
    "                # line = dict(width=value,color='black'),\n",
    "                name = ' '.join(key.split('_')).title() if key.split('_')[0]!='random' else ' '.join(key.split('_')[1:]).title() + ' (Random)',\n",
    "                legendgroup='strategy',\n",
    "                legendgrouptitle_text='Strategy',\n",
    "                marker = dict(size=10,symbol=value,color='black'),\n",
    "            ))\n",
    "    # strat_value\n",
    "    for key,value in widths_key[dataset].items():\n",
    "        fig.add_trace(\n",
    "            go.Scatter(\n",
    "                mode='lines',\n",
    "                x = [None],\n",
    "                y = [None],\n",
    "                line = dict(width=value,color='black'),\n",
    "                name = key,\n",
    "                legendgroup='strat_value',\n",
    "                legendgrouptitle_text='Strategy Value (SV)',\n",
    "            ))\n",
    "    # labeled_size\n",
    "    for key,color in colors_key[dataset].items():\n",
    "        fig.add_trace(\n",
    "            go.Scatter(\n",
    "                mode='lines',\n",
    "                x = [None],\n",
    "                y = [None],\n",
    "                line = dict(width=4,color=color,dash='solid'),\n",
    "                name = key,\n",
    "                legendgroup='labeled_size',\n",
    "                legendgrouptitle_text='Labeled Size (LS)',\n",
    "            ))\n",
    "    # unlabeled_classes\n",
    "    for key,color in contrast_key[dataset].items():\n",
    "        fig.add_trace(\n",
    "            go.Scatter(\n",
    "                mode='lines',\n",
    "                x = [None],\n",
    "                y = [None],\n",
    "                line = dict(width=4,color=color,dash='solid'),\n",
    "                name = key,\n",
    "                legendgroup='unlabeled_classes',\n",
    "                legendgrouptitle_text='Unlabeled Classes (UC)',\n",
    "            ))\n",
    "    # unlabeled_size\n",
    "    for key, dash in dashes_key[dataset].items():\n",
    "        fig.add_trace(\n",
    "            go.Scatter(\n",
    "                mode='lines',\n",
    "                x = [None],\n",
    "                y = [None],\n",
    "                line = dict(width=3.5,color='black',dash=dash),\n",
    "                name = key,\n",
    "                legendgroup='unlabeled_size',\n",
    "                legendgrouptitle_text='Unlabeled Size (US)',\n",
    "            ))\n",
    "\n",
    "    for strategy in history_dict.strategies[1]:\n",
    "        history_list = history_dict[dataset][strategy]\n",
    "\n",
    "        \n",
    "        for history in history_list:\n",
    "            \n",
    "            # strategy = history['config']['strategy']\n",
    "            strategy_text = ' '.join(strategy.split('_')).title() if history['config']['equal_split'] else ' '.join(strategy.split('_')[1:]).title() + ' (Random)'\n",
    "            strat_value = history['config'][history['strategy']]\n",
    "            labeled_classes = len(history['config']['labeled_classes'])\n",
    "            unlabeled_classes = len(history['config']['unlabeled_classes'])\n",
    "            labeled_size = history['labeled_set_size'][0]\n",
    "            unlabeled_size = history['unlabeled_set_size'][0]\n",
    "\n",
    "            fig.add_trace(\n",
    "                go.Scatter(\n",
    "                    mode='lines+markers',\n",
    "                    x = [*range(1,len(history['val_acc'])+1)],\n",
    "                    y = [max(accs) for accs in  history['val_acc']],\n",
    "                    line = dict(width=widths[strat_value],\n",
    "                                color=colors[unlabeled_classes][labeled_size],\n",
    "                                dash=dashes[unlabeled_size]),\n",
    "                    name = 'LS '+str(labeled_size)+'; US '+str(unlabeled_size)+'; UC '+str(unlabeled_classes),\n",
    "                    legendgroup=strategy+str(strat_value),\n",
    "                    legendgrouptitle_text=strategy_text+' '+str(strat_value),\n",
    "                    marker = markers[strategy],\n",
    "                )\n",
    "            )\n",
    "            \n",
    "    fig.update_layout(\n",
    "        legend=dict(\n",
    "            font=dict(size=13,color=\"black\"),\n",
    "            groupclick=\"toggleitem\",\n",
    "            itemdoubleclick='toggleothers',\n",
    "            grouptitlefont=dict(size=15,color='black')\n",
    "        ),\n",
    "        title=dict(text='Accuracy Plot',font=dict(size=25)),\n",
    "        font=dict(size=15),\n",
    "        template='plotly_white')\n",
    "    fig.update_xaxes(title_text='iteration')\n",
    "    fig.update_yaxes(title_text='accuracy')\n",
    "    os.makedirs(base_dir+'/'+dataset+'/'+strategy,exist_ok=True)\n",
    "    print(base_dir+'/'+dataset+'/'+strategy)\n",
    "    fig.write_html(base_dir+'/'+dataset+\"/acc_comparison.html\", auto_open=False)\n",
    "    # fig.write_html(base_dir+'/'+dataset+'/'+strategy+\"/acc_comparison.html\", auto_open=False)\n",
    "        "
   ]
  },
  {
   "attachments": {},
   "cell_type": "markdown",
   "metadata": {},
   "source": [
    "##### Plotly Old"
   ]
  },
  {
   "cell_type": "code",
   "execution_count": 4,
   "metadata": {},
   "outputs": [],
   "source": [
    "dataset = history_dict.datasets[1]\n",
    "strategy = history_dict.strategies[1][0]\n",
    "history_list = history_dict[dataset][strategy]"
   ]
  },
  {
   "cell_type": "code",
   "execution_count": 5,
   "metadata": {},
   "outputs": [],
   "source": [
    "# Make data\n",
    "data = {'Iteration':[], 'Accuracy':[], 'Per Class K':[], 'Labeled Size':[], 'Unlabeled Size':[], 'Unlabeled Classes':[]}\n",
    "for history in history_list:\n",
    "    data['Iteration']+=[*range(len(history['val_acc']))]\n",
    "    data['Accuracy']+=[max(accs) for accs in  history['val_acc']]\n",
    "    data['Per Class K']+= ([history['config']['pc_top_k']]*len(history['val_acc']))\n",
    "    data['Labeled Size']+=([history['labeled_set_size'][0]]*len(history['val_acc']))\n",
    "    data['Unlabeled Size']+=([history['unlabeled_set_size'][0]]*len(history['val_acc']))\n",
    "    data['Unlabeled Classes']+=([len(history['config']['unlabeled_classes'])]*len(history['val_acc']))\n",
    "\n",
    "# Make Dataframe\n",
    "df= pd.DataFrame()\n",
    "for key, val in data.items():\n",
    "    df[key]=val"
   ]
  },
  {
   "cell_type": "code",
   "execution_count": null,
   "metadata": {},
   "outputs": [],
   "source": [
    "# Plot Accuracies\n",
    "color_col = 'Labeled Size'\n",
    "dash_col = 'Unlabeled Classes'\n",
    "symbol_col = 'Per Class K'\n",
    "\n",
    "fig = px.line(df ,x='Iteration',y='Accuracy',\n",
    "              color=color_col, line_dash=dash_col, symbol=symbol_col,\n",
    "              height=700, width=1400, markers=False, template=\"plotly_white\",\n",
    "              color_discrete_sequence=sns.color_palette(\"tab10\",len(df[color_col].unique())).as_hex(),\n",
    "              line_dash_sequence=['solid', 'dash'],\n",
    "              symbol_sequence= ['circle', 'circle','arrow-bar-right', 'circle-open-dot', 'square'],\n",
    "              title='Accuracy Comparison (Per Class Top K)')\n",
    "# Export\n",
    "# fig.write_html(base_dir+\"/acc_comp.html\")\n",
    "\n",
    "# Show\n",
    "# fig.show()\n",
    "legends = [data['legendgroup'] for data in fig['data']]\n",
    "# color_list = ['#66b2e5', '#2183c4', '#a2d973', '#3ab431', '#f96e6c', '#cd181b', '#fdbc68', '#e67300', '#af8ac1', '#7141a4']\n",
    "color_list = ['#2183c4', '#66b2e5', '#3ab431', '#a2d973', '#cd181b', '#f96e6c', '#e67300', '#fdbc68', '#7141a4', '#af8ac1']\n",
    "# for c in sns.color_palette(\"Paired\",len(df[color_col].unique())*2).as_hex():\n",
    "colors=[]\n",
    "for i in range(0,len(color_list),2):\n",
    "    colors+=color_list[i:i+2]\n",
    "    colors+=color_list[i:i+2]\n",
    "data = []\n",
    "for l,c,d in zip(legends,colors,fig['data']):\n",
    "    d['line']['color']=c\n",
    "    # if l.split(',')[2]==' 500':\n",
    "    #     d['line']['width']=3\n",
    "    # else:\n",
    "    #     d['line']['width']=1.5\n",
    "    d['mode']='lines'\n",
    "    data.append(d)\n",
    "fig['data']=list(reversed(data))\n",
    "\n",
    "fig.write_html(base_dir+\"/render_org.html\")"
   ]
  },
  {
   "cell_type": "markdown",
   "metadata": {
    "jp-MarkdownHeadingCollapsed": true,
    "tags": []
   },
   "source": [
    "#### Accuracy for each Config"
   ]
  },
  {
   "cell_type": "markdown",
   "metadata": {},
   "source": [
    "##### Plot"
   ]
  },
  {
   "cell_type": "code",
   "execution_count": 7,
   "metadata": {},
   "outputs": [
    {
     "name": "stdout",
     "output_type": "stream",
     "text": [
      "Dataset  : dbpedia_14\n",
      "Strategy : random_top_k\n",
      "Indices  : [20, 0, 1, 3]\n",
      "Unique   : [12, 22, 43, 85]\n",
      "Iter Lens: [22, 43, 43, 85, 22, 43, 43, 85, 22, 43, 43, 85, 22, 43, 43, 85, 22, 43, 43, 85, 12, 22, 22, 43, 12, 22, 22, 43, 12, 22, 22, 43, 12, 22, 22, 43, 12, 22, 22, 43]\n"
     ]
    }
   ],
   "source": [
    "dataset = history_dict.datasets[0]\n",
    "strategy = history_dict.strategies[0][1]\n",
    "history_list = history_dict[dataset][strategy]\n",
    "\n",
    "iter_lens = [len(history['iteration']) for history in history_list]\n",
    "sorted_ = sorted(list(set(iter_lens)))\n",
    "indices = [iter_lens.index(val) for val in sorted_]\n",
    "print('Dataset  :', dataset)\n",
    "print('Strategy :', strategy)\n",
    "print('Indices  :', indices)\n",
    "print('Unique   :', sorted_)\n",
    "print('Iter Lens:', iter_lens)"
   ]
  },
  {
   "cell_type": "code",
   "execution_count": 8,
   "metadata": {},
   "outputs": [
    {
     "data": {
      "image/png": "[encoded data removed]",
      "text/plain": [
       "<Figure size 1000x500 with 1 Axes>"
      ]
     },
     "metadata": {},
     "output_type": "display_data"
    }
   ],
   "source": [
    "index = 20\n",
    "# Load Probs from history\n",
    "history = history_list[index]\n",
    "\n",
    "# Make a dataframe to plot\n",
    "val_acc = [max(accs) for accs in history['val_acc']]\n",
    "train_acc = [max(accs) for accs in history['train_acc']]\n",
    "df = pd.DataFrame(dict(val_acc=val_acc, train_acc=train_acc))\n",
    "\n",
    "# Set plot size\n",
    "plt.figure(figsize=(10,5))\n",
    "sns.set_style('whitegrid')\n",
    "# Plot the lines\n",
    "sns.lineplot(df,dashes=False,markers='o',palette=sns.color_palette(\"husl\", 2))\n",
    "# Adjust border\n",
    "sns.despine(top=True,right=True)\n",
    "# Set Labels, legends and ticks\n",
    "plt.title('Accuracy Plot')\n",
    "plt.xlabel(\"Iteration\")\n",
    "plt.ylabel(\"Accuracy\")\n",
    "plt.legend(facecolor=\"w\")\n",
    "# plt.xticks([*range(0,len(history['iteration']),len(history['iteration'])//20)],labels=[*range(1,len(history['iteration'])+1,len(history['iteration'])//20)])\n",
    "\n",
    "# Plot\n",
    "plt.show()"
   ]
  },
  {
   "cell_type": "markdown",
   "metadata": {},
   "source": [
    "##### Save"
   ]
  },
  {
   "cell_type": "code",
   "execution_count": 9,
   "metadata": {},
   "outputs": [
    {
     "name": "stderr",
     "output_type": "stream",
     "text": [
      "Dbpedia_14, Pc_Top_K: 100%|██████████| 40/40 [00:10<00:00,  3.83it/s]\n",
      "Dbpedia_14, Random_Top_K: 100%|██████████| 40/40 [00:11<00:00,  3.62it/s]\n",
      "Dbpedia_14, Random_Pc_Top_K: 100%|██████████| 40/40 [00:10<00:00,  3.85it/s]\n",
      "Dbpedia_14, Top_K: 100%|██████████| 40/40 [00:09<00:00,  4.08it/s]\n",
      "Yahoo_Answers_10, Pc_Top_K: 100%|██████████| 40/40 [00:10<00:00,  3.92it/s]\n",
      "Yahoo_Answers_10, Random_Top_K: 100%|██████████| 40/40 [00:12<00:00,  3.08it/s]\n",
      "Yahoo_Answers_10, Random_Pc_Top_K: 100%|██████████| 40/40 [00:10<00:00,  3.71it/s]\n",
      "Yahoo_Answers_10, Top_K: 100%|██████████| 40/40 [00:12<00:00,  3.15it/s]\n"
     ]
    }
   ],
   "source": [
    "datasets = history_dict.datasets\n",
    "strategies = history_dict.strategies[1]\n",
    "for dataset in datasets:\n",
    "    for strategy in strategies:\n",
    "        history_list = history_dict[dataset][strategy]\n",
    "        for history in tqdm(history_list, desc=dataset.title()+', '+strategy.title()):\n",
    "        \n",
    "            # Make save dir\n",
    "            plots_dir=make_save_dir(base_dir,history)\n",
    "            \n",
    "            # Make a dataframe to plot\n",
    "            val_acc = [max(accs) for accs in history['val_acc']]\n",
    "            train_acc = [max(accs) for accs in history['train_acc']]\n",
    "            df = pd.DataFrame(dict(val_acc=val_acc, train_acc=train_acc))\n",
    "\n",
    "            # Set plot size\n",
    "            plt.figure(figsize=(10,5))\n",
    "            sns.set_style('whitegrid')\n",
    "            # Plot the lines\n",
    "            sns.lineplot(df,dashes=False,markers='o',palette=sns.color_palette(\"husl\", 2))\n",
    "            # Adjust border\n",
    "            sns.despine(top=True,right=True)\n",
    "            # Set Labels, legends and ticks\n",
    "            plt.title('Accuracy Plot')\n",
    "            plt.xlabel(\"Iteration\")\n",
    "            plt.ylabel(\"Accuracy\")\n",
    "            plt.legend(facecolor=\"w\")\n",
    "            # plt.xticks([*range(0,len(history['iteration']),max(len(history['iteration'])//20,1))],\\\n",
    "            #     labels=[*range(1,len(history['iteration'])+1,max(len(history['iteration'])//20,1))])\n",
    "\n",
    "            # Save\n",
    "            plt.savefig(plots_dir+'/'+\"acc_plot.png\",bbox_inches=\"tight\");\n",
    "            plt.clf();\n",
    "            plt.close('all');"
   ]
  },
  {
   "cell_type": "markdown",
   "metadata": {
    "jp-MarkdownHeadingCollapsed": true,
    "tags": []
   },
   "source": [
    "#### Classwise metrics for each Config"
   ]
  },
  {
   "cell_type": "markdown",
   "metadata": {},
   "source": [
    "##### Plot"
   ]
  },
  {
   "cell_type": "code",
   "execution_count": 10,
   "metadata": {},
   "outputs": [
    {
     "name": "stdout",
     "output_type": "stream",
     "text": [
      "Dataset  : dbpedia_14\n",
      "Strategy : random_top_k\n",
      "Indices  : [20, 0, 1, 3]\n",
      "Unique   : [12, 22, 43, 85]\n",
      "Iter Lens: [22, 43, 43, 85, 22, 43, 43, 85, 22, 43, 43, 85, 22, 43, 43, 85, 22, 43, 43, 85, 12, 22, 22, 43, 12, 22, 22, 43, 12, 22, 22, 43, 12, 22, 22, 43, 12, 22, 22, 43]\n"
     ]
    }
   ],
   "source": [
    "dataset = history_dict.datasets[0]\n",
    "strategy = history_dict.strategies[0][1]\n",
    "history_list = history_dict[dataset][strategy]\n",
    "\n",
    "iter_lens = [len(history['iteration']) for history in history_list]\n",
    "sorted_ = sorted(list(set(iter_lens)))\n",
    "indices = [iter_lens.index(val) for val in sorted_]\n",
    "print('Dataset  :', dataset)\n",
    "print('Strategy :', strategy)\n",
    "print('Indices  :', indices)\n",
    "print('Unique   :', sorted_)\n",
    "print('Iter Lens:', iter_lens)"
   ]
  },
  {
   "cell_type": "code",
   "execution_count": null,
   "metadata": {},
   "outputs": [],
   "source": [
    "index = 20\n",
    "metric = 'acc' # acc, f1\n",
    "\n",
    "# Load Probs from history\n",
    "history = history_list[index]\n",
    "cw_acc_dict = {class_:[] for class_ in range(len(history['val_cw_'+metric][0][0]))}\n",
    "for acc_list, cw_acc_list in zip(history['val_acc'],history['val_cw_'+metric]):\n",
    "    max_idx = acc_list.index(max(acc_list))\n",
    "    for class_, acc in enumerate(cw_acc_list[max_idx]):\n",
    "        cw_acc_dict[class_].append(acc)\n",
    "\n",
    "df=pd.DataFrame()\n",
    "for key, val in cw_acc_dict.items():\n",
    "    df[class_labels[dataset][key]]=val\n",
    "\n",
    "# Set plot size\n",
    "plt.figure(figsize=(10,5))\n",
    "sns.set_style(\"whitegrid\")\n",
    "# Plot the lines\n",
    "sns.lineplot(df,dashes=False,lw=1.5, markers='o', palette=sns.color_palette(\"husl\", df.shape[1]))\n",
    "# Adjust border\n",
    "sns.despine(top=True,right=True)\n",
    "# Set Labels, legends and ticks\n",
    "plt.title(\"Classwise \"+metric.title()+' Plot')\n",
    "plt.xlabel(\"Iteration\")\n",
    "plt.ylabel(metric.title())\n",
    "plt.legend(facecolor=\"w\",edgecolor='b')\n",
    "# plt.xticks([*range(len(history['iteration']))],labels=[*range(1,len(history['iteration'])+1)])\n",
    "\n",
    "# Plot\n",
    "plt.show()"
   ]
  },
  {
   "cell_type": "markdown",
   "metadata": {},
   "source": [
    "##### Save"
   ]
  },
  {
   "cell_type": "code",
   "execution_count": 11,
   "metadata": {},
   "outputs": [
    {
     "name": "stderr",
     "output_type": "stream",
     "text": [
      "Dbpedia_14, Pc_Top_K: 100%|██████████| 40/40 [00:29<00:00,  1.38it/s]\n",
      "Dbpedia_14, Random_Top_K: 100%|██████████| 40/40 [00:29<00:00,  1.35it/s]\n",
      "Dbpedia_14, Random_Pc_Top_K: 100%|██████████| 40/40 [00:30<00:00,  1.33it/s]\n",
      "Dbpedia_14, Top_K: 100%|██████████| 40/40 [00:27<00:00,  1.46it/s]\n",
      "Yahoo_Answers_10, Pc_Top_K: 100%|██████████| 40/40 [00:27<00:00,  1.47it/s]\n",
      "Yahoo_Answers_10, Random_Top_K: 100%|██████████| 40/40 [00:27<00:00,  1.45it/s]\n",
      "Yahoo_Answers_10, Random_Pc_Top_K: 100%|██████████| 40/40 [00:26<00:00,  1.54it/s]\n",
      "Yahoo_Answers_10, Top_K: 100%|██████████| 40/40 [00:27<00:00,  1.46it/s]\n"
     ]
    }
   ],
   "source": [
    "metrics = ['acc', 'f1'] # acc, f1\n",
    "\n",
    "datasets = history_dict.datasets\n",
    "strategies = history_dict.strategies[1]\n",
    "for dataset in datasets:\n",
    "    for strategy in strategies:\n",
    "        history_list = history_dict[dataset][strategy]\n",
    "        for history in tqdm(history_list, desc=dataset.title()+', '+strategy.title()):\n",
    "            for metric in metrics:\n",
    "                # Make save dir\n",
    "                plots_dir = make_save_dir(base_dir,history)\n",
    "                \n",
    "                # Load Probs from history\n",
    "                cw_acc_dict = {class_:[] for class_ in range(len(history['val_cw_'+metric][0][0]))}\n",
    "                for acc_list, cw_acc_list in zip(history['val_acc'],history['val_cw_'+metric]):\n",
    "                    max_idx = acc_list.index(max(acc_list))\n",
    "                    for class_, acc in enumerate(cw_acc_list[max_idx]):\n",
    "                        cw_acc_dict[class_].append(acc)\n",
    "\n",
    "                df=pd.DataFrame()\n",
    "                for key, val in cw_acc_dict.items():\n",
    "                    df[class_labels[dataset][key]]=val\n",
    "\n",
    "                # Set plot size\n",
    "                plt.figure(figsize=(10,5))\n",
    "                sns.set_style(\"whitegrid\")\n",
    "                # Plot the lines\n",
    "                sns.lineplot(df,dashes=False,lw=1.5, markers='o', palette=sns.color_palette(\"husl\", df.shape[1]))\n",
    "                # Adjust border\n",
    "                sns.despine(top=True,right=True)\n",
    "                # Set Labels, legends and ticks\n",
    "                plt.title(\"Classwise \"+metric.title()+' Plot')\n",
    "                plt.xlabel(\"Iteration\")\n",
    "                plt.ylabel(metric.title())\n",
    "                plt.legend(facecolor=\"w\")\n",
    "                # plt.xticks([*range(len(history['iteration']))],labels=[*range(1,len(history['iteration'])+1)])\n",
    "\n",
    "                # Save\n",
    "                plt.savefig(plots_dir+'/'+\"cw_\"+metric+\"_plot.png\",bbox_inches=\"tight\");\n",
    "                plt.clf();\n",
    "                plt.close('all');"
   ]
  },
  {
   "cell_type": "markdown",
   "metadata": {
    "jp-MarkdownHeadingCollapsed": true,
    "tags": []
   },
   "source": [
    "### 3.4 Selection plots"
   ]
  },
  {
   "cell_type": "markdown",
   "metadata": {},
   "source": [
    "#### Plot"
   ]
  },
  {
   "cell_type": "code",
   "execution_count": 6,
   "metadata": {},
   "outputs": [
    {
     "name": "stdout",
     "output_type": "stream",
     "text": [
      "Dataset  : dbpedia_14\n",
      "Strategy : random_top_k\n",
      "Indices  : [20, 0, 1, 3]\n",
      "Unique   : [12, 22, 43, 85]\n",
      "Iter Lens: [22, 43, 43, 85, 22, 43, 43, 85, 22, 43, 43, 85, 22, 43, 43, 85, 22, 43, 43, 85, 12, 22, 22, 43, 12, 22, 22, 43, 12, 22, 22, 43, 12, 22, 22, 43, 12, 22, 22, 43]\n"
     ]
    }
   ],
   "source": [
    "dataset = history_dict.datasets[0]\n",
    "strategy = history_dict.strategies[0][1]\n",
    "history_list = history_dict[dataset][strategy]\n",
    "\n",
    "iter_lens = [len(history['iteration']) for history in history_list]\n",
    "sorted_ = sorted(list(set(iter_lens)))\n",
    "indices = [iter_lens.index(val) for val in sorted_]\n",
    "print('Dataset  :', dataset)\n",
    "print('Strategy :', strategy)\n",
    "print('Indices  :', indices)\n",
    "print('Unique   :', sorted_)\n",
    "print('Iter Lens:', iter_lens)"
   ]
  },
  {
   "cell_type": "code",
   "execution_count": null,
   "metadata": {},
   "outputs": [],
   "source": [
    "index = 0\n",
    "\n",
    "# Load Probs from history\n",
    "history = history_list[index]\n",
    "\n",
    "# Make a dataframe to plot\n",
    "in_domain = deepcopy(history['selected_in_domain'])\n",
    "out_domain = deepcopy([a-b for a,b in zip(history['selected_set_size'],history['selected_in_domain'])])\n",
    "selected = deepcopy(history['selected_set_size'])\n",
    "\n",
    "for i in range(1,len(in_domain)):\n",
    "    in_domain[i] = in_domain[i-1]+in_domain[i]\n",
    "    out_domain[i] = out_domain[i-1]+out_domain[i]\n",
    "    selected [i]= selected[i-1]+selected[i]\n",
    "\n",
    "df = pd.DataFrame(dict(in_domain=in_domain, out_domain=out_domain, selected=selected))\n",
    "\n",
    "# Set plot size\n",
    "plt.figure(figsize=(10,5))\n",
    "sns.set_style(\"whitegrid\")\n",
    "# Plot the lines\n",
    "sns.lineplot(df,dashes=False,markers='o',palette=sns.color_palette(\"husl\", 3))\n",
    "# Adjust border\n",
    "sns.despine(top=True,right=True)\n",
    "# Set Labels, legends and ticks\n",
    "plt.title('Cumulative Selection Plot')\n",
    "plt.xlabel(\"Iteration\")\n",
    "plt.ylabel(\"Count\")\n",
    "plt.legend(facecolor=\"w\",edgecolor='b')\n",
    "# plt.xticks([*range(len(history['iteration']))],labels=[*range(1,len(history['iteration'])+1)])\n",
    "\n",
    "# Plot\n",
    "plt.show()"
   ]
  },
  {
   "cell_type": "markdown",
   "metadata": {},
   "source": [
    "#### Save"
   ]
  },
  {
   "cell_type": "code",
   "execution_count": 10,
   "metadata": {},
   "outputs": [
    {
     "name": "stderr",
     "output_type": "stream",
     "text": [
      "Dbpedia_14, Pc_Top_K: 100%|██████████| 40/40 [00:10<00:00,  3.74it/s]\n",
      "Dbpedia_14, Random_Top_K: 100%|██████████| 40/40 [00:11<00:00,  3.61it/s]\n",
      "Dbpedia_14, Random_Pc_Top_K: 100%|██████████| 40/40 [00:11<00:00,  3.37it/s]\n",
      "Dbpedia_14, Top_K: 100%|██████████| 40/40 [00:11<00:00,  3.49it/s]\n",
      "Yahoo_Answers_10, Pc_Top_K: 100%|██████████| 40/40 [00:12<00:00,  3.32it/s]\n",
      "Yahoo_Answers_10, Random_Top_K: 100%|██████████| 40/40 [00:12<00:00,  3.20it/s]\n",
      "Yahoo_Answers_10, Random_Pc_Top_K: 100%|██████████| 40/40 [00:12<00:00,  3.32it/s]\n",
      "Yahoo_Answers_10, Top_K: 100%|██████████| 40/40 [00:12<00:00,  3.33it/s]\n"
     ]
    }
   ],
   "source": [
    "datasets = history_dict.datasets\n",
    "strategies = history_dict.strategies[1]\n",
    "for dataset in datasets:\n",
    "    for strategy in strategies:\n",
    "        history_list = history_dict[dataset][strategy]\n",
    "        for history in tqdm(history_list, desc=dataset.title()+', '+strategy.title()):\n",
    "        \n",
    "            # Make save dir\n",
    "            plots_dir=make_save_dir(base_dir,history)\n",
    "\n",
    "            # Make a dataframe to plot\n",
    "            in_domain = deepcopy(history['selected_in_domain'])\n",
    "            out_domain = deepcopy([a-b for a,b in zip(history['selected_set_size'],history['selected_in_domain'])])\n",
    "            selected = deepcopy(history['selected_set_size'])\n",
    "\n",
    "            for i in range(1,len(in_domain)):\n",
    "                in_domain[i] = in_domain[i-1]+in_domain[i]\n",
    "                out_domain[i] = out_domain[i-1]+out_domain[i]\n",
    "                selected [i]= selected[i-1]+selected[i]\n",
    "\n",
    "            df = pd.DataFrame(dict(in_domain=in_domain, out_domain=out_domain, selected=selected))\n",
    "\n",
    "            # Set plot size\n",
    "            plt.figure(figsize=(10,5))\n",
    "            sns.set_style(\"whitegrid\")\n",
    "            # Plot the lines\n",
    "            sns.lineplot(df,dashes=False,markers='o',palette=sns.color_palette(\"husl\", 3))\n",
    "            # Adjust border\n",
    "            sns.despine(top=True,right=True)\n",
    "            # Set Labels, legends and ticks\n",
    "            plt.title('Cumulative Selection Plot')\n",
    "            plt.xlabel(\"Iteration\")\n",
    "            plt.ylabel(\"Count\")\n",
    "            plt.legend(facecolor=\"w\")\n",
    "            # plt.xticks([*range(len(history['iteration']))],labels=[*range(1,len(history['iteration'])+1)])\n",
    "\n",
    "            # Save\n",
    "            plt.savefig(plots_dir+'/'+\"selection_plot.png\",bbox_inches=\"tight\");\n",
    "            plt.clf();\n",
    "            plt.close('all');"
   ]
  },
  {
   "cell_type": "markdown",
   "metadata": {
    "jp-MarkdownHeadingCollapsed": true,
    "tags": []
   },
   "source": [
    "### 3.5 Distribution Counts"
   ]
  },
  {
   "cell_type": "code",
   "execution_count": null,
   "metadata": {},
   "outputs": [],
   "source": [
    "distribution = 'train'\n",
    "index = 5\n",
    "for history in history_list[index:index+1]:\n",
    "    pre_title = 'Threshold: '+str(history['threshold']) if history['strategy']=='threshold' else\\\n",
    "                'Top K: '+str(history['top_k']) , \"Labeled Size:\"+str(history['labeled_set_size'][0])+\\\n",
    "                    \", Unlabeled Classes: \"+str(len(history['unlabeled_classes']))\n",
    "    print(distribution.title()+' Distribution,',pre_title)\n",
    "    \n",
    "    itr = history['iteration']\n",
    "    unlabeled_dist = [val.values() for val in history[distribution.lower()+'_distribution']]\n",
    "   \n",
    "    df = pd.DataFrame(columns=['Iteration']+[str(clss) for clss in history[distribution.lower()+'_distribution'][0].keys()])\n",
    "    for i, counts in zip(itr,unlabeled_dist):\n",
    "        df.loc[len(df)] = [i]+ list(counts)\n",
    "\n",
    "    display(df)"
   ]
  },
  {
   "cell_type": "markdown",
   "metadata": {
    "jp-MarkdownHeadingCollapsed": true,
    "tags": []
   },
   "source": [
    "## Debug"
   ]
  },
  {
   "cell_type": "code",
   "execution_count": 42,
   "metadata": {},
   "outputs": [],
   "source": [
    "fig = px.colors.qualitative.swatches()\n",
    "fig.update_layout(template='plotly_white')\n",
    "fig.write_html(base_dir+\"/colors.html\")"
   ]
  },
  {
   "cell_type": "code",
   "execution_count": 44,
   "metadata": {},
   "outputs": [
    {
     "name": "stdout",
     "output_type": "stream",
     "text": [
      "['aggrnyl', 'agsunset', 'blackbody', 'bluered', 'blues', 'blugrn', 'bluyl', 'brwnyl', 'bugn', 'bupu', 'burg', 'burgyl', 'cividis', 'darkmint', 'electric', 'emrld', 'gnbu', 'greens', 'greys', 'hot', 'inferno', 'jet', 'magenta', 'magma', 'mint', 'orrd', 'oranges', 'oryel', 'peach', 'pinkyl', 'plasma', 'plotly3', 'pubu', 'pubugn', 'purd', 'purp', 'purples', 'purpor', 'rainbow', 'rdbu', 'rdpu', 'redor', 'reds', 'sunset', 'sunsetdark', 'teal', 'tealgrn', 'turbo', 'viridis', 'ylgn', 'ylgnbu', 'ylorbr', 'ylorrd', 'algae', 'amp', 'deep', 'dense', 'gray', 'haline', 'ice', 'matter', 'solar', 'speed', 'tempo', 'thermal', 'turbid', 'armyrose', 'brbg', 'earth', 'fall', 'geyser', 'prgn', 'piyg', 'picnic', 'portland', 'puor', 'rdgy', 'rdylbu', 'rdylgn', 'spectral', 'tealrose', 'temps', 'tropic', 'balance', 'curl', 'delta', 'oxy', 'edge', 'hsv', 'icefire', 'phase', 'twilight', 'mrybm', 'mygbm']\n"
     ]
    }
   ],
   "source": [
    "print(px.colors.named_colorscales())"
   ]
  },
  {
   "cell_type": "code",
   "execution_count": null,
   "metadata": {},
   "outputs": [],
   "source": [
    "for name in history_files:\n",
    "    history = torch.load(name)\n",
    "    labeled = history['labeled_set_size'][1:]+[history['unlabeled_set_size'][0]]\n",
    "    unlabeled = history['unlabeled_set_size'][1:]+[0]\n",
    "    history['labeled_set_size']=labeled\n",
    "    history['unlabeled_set_size']=unlabeled\n",
    "    torch.save(history,name)"
   ]
  },
  {
   "cell_type": "code",
   "execution_count": null,
   "metadata": {},
   "outputs": [],
   "source": [
    "for root, dirs, files in os.walk(\"./history\"):\n",
    "   for name in files:\n",
    "      print(os.path.join(root, name))\n",
    "   for name in dirs:\n",
    "      print(os.path.join(root, name))"
   ]
  }
 ],
 "metadata": {
  "kernelspec": {
   "display_name": "Python 3 (ipykernel)",
   "language": "python",
   "name": "python3"
  },
  "language_info": {
   "codemirror_mode": {
    "name": "ipython",
    "version": 3
   },
   "file_extension": ".py",
   "mimetype": "text/x-python",
   "name": "python",
   "nbconvert_exporter": "python",
   "pygments_lexer": "ipython3",
   "version": "3.8.13 | packaged by conda-forge | (default, Mar 25 2022, 06:04:10) \n[GCC 10.3.0]"
  },
  "vscode": {
   "interpreter": {
    "hash": "2d16b7065a7b6c736c1e1086f6450fd457f50d264e4008e1f14cb5793d37f9a9"
   }
  }
 },
 "nbformat": 4,
 "nbformat_minor": 4
}
